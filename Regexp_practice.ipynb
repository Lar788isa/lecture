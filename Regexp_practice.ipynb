{
 "cells": [
  {
   "cell_type": "code",
   "execution_count": 3,
   "metadata": {},
   "outputs": [],
   "source": [
    "import re"
   ]
  },
  {
   "cell_type": "code",
   "execution_count": 2,
   "metadata": {},
   "outputs": [],
   "source": [
    "text = 'Что такое регулярные выражения и как их использовать?\\\n",
    "        Говоря простым языком, регулярное выражение — это последовательность символов,\\\n",
    "        используемая для поиска и замены текста в строке или файле. Как уже было упомянуто,\\\n",
    "        их поддерживает множество языков общего назначения: Python, Perl, R.\\\n",
    "        Так что изучение регулярных выражений рано или поздно пригодится.'"
   ]
  },
  {
   "cell_type": "code",
   "execution_count": 4,
   "metadata": {},
   "outputs": [],
   "source": [
    "# match ищет чего-то в начале строки. И там нет регуляяр выражений , которые мы ищем\n",
    "re.match(pattern, text)"
   ]
  },
  {
   "cell_type": "code",
   "execution_count": 5,
   "metadata": {},
   "outputs": [],
   "source": [
    "pattern = 'Что'"
   ]
  },
  {
   "cell_type": "code",
   "execution_count": 6,
   "metadata": {},
   "outputs": [
    {
     "data": {
      "text/plain": [
       "<re.Match object; span=(0, 3), match='Что'>"
      ]
     },
     "execution_count": 6,
     "metadata": {},
     "output_type": "execute_result"
    }
   ],
   "source": [
    "result = re.match('Что', text)\n",
    "result\n",
    "#  Мы получим Match object; с результатом - нашел match = Что ; span=(0, 3) - это индекс вхождения нашего шаблона, с и до"
   ]
  },
  {
   "cell_type": "code",
   "execution_count": 7,
   "metadata": {},
   "outputs": [
    {
     "data": {
      "text/plain": [
       "<re.Match object; span=(0, 3), match='Что'>"
      ]
     },
     "execution_count": 7,
     "metadata": {},
     "output_type": "execute_result"
    }
   ],
   "source": [
    "result = re.match('Что', text)\n",
    "result\n",
    "# print('Нашел' if result else 'Не нашел')"
   ]
  },
  {
   "cell_type": "code",
   "execution_count": 8,
   "metadata": {},
   "outputs": [
    {
     "data": {
      "text/plain": [
       "'Что'"
      ]
     },
     "execution_count": 8,
     "metadata": {},
     "output_type": "execute_result"
    }
   ],
   "source": [
    "# покажет что мы ищем - сам Match object\n",
    "result.group()"
   ]
  },
  {
   "cell_type": "code",
   "execution_count": 10,
   "metadata": {},
   "outputs": [
    {
     "data": {
      "text/plain": [
       "(0, 3)"
      ]
     },
     "execution_count": 10,
     "metadata": {},
     "output_type": "execute_result"
    }
   ],
   "source": [
    "# индексы можем получить = . Первый это вхождение, второй конец (помним -1)\n",
    "result.start(), result.end()"
   ]
  },
  {
   "cell_type": "code",
   "execution_count": 12,
   "metadata": {},
   "outputs": [],
   "source": [
    "pattern = 'регулярн[а-я]+ выражен[а-я]+'"
   ]
  },
  {
   "cell_type": "code",
   "execution_count": 13,
   "metadata": {},
   "outputs": [
    {
     "data": {
      "text/plain": [
       "<re.Match object; span=(10, 30), match='регулярные выражения'>"
      ]
     },
     "execution_count": 13,
     "metadata": {},
     "output_type": "execute_result"
    }
   ],
   "source": [
    "\n",
    "# search ищет по всему тексту первое вхождение object\n",
    "re.search(pattern, text)"
   ]
  },
  {
   "cell_type": "code",
   "execution_count": 14,
   "metadata": {},
   "outputs": [
    {
     "data": {
      "text/plain": [
       "<re.Match object; span=(76, 82), match='языком'>"
      ]
     },
     "execution_count": 14,
     "metadata": {},
     "output_type": "execute_result"
    }
   ],
   "source": [
    "# нашел вхождение на второй строчке\n",
    "pattern = 'язык[а-я]+'\n",
    "re.search(pattern, text)"
   ]
  },
  {
   "cell_type": "code",
   "execution_count": 15,
   "metadata": {},
   "outputs": [],
   "source": [
    "pattern = 'регулярн[а-я]+ выражен[а-я]+'"
   ]
  },
  {
   "cell_type": "code",
   "execution_count": 16,
   "metadata": {},
   "outputs": [
    {
     "data": {
      "text/plain": [
       "['регулярные выражения', 'регулярное выражение', 'регулярных выражений']"
      ]
     },
     "execution_count": 16,
     "metadata": {},
     "output_type": "execute_result"
    }
   ],
   "source": [
    "# findall -чаще используется. Список всех вхождений Match object\n",
    "re.findall(pattern, text)"
   ]
  },
  {
   "cell_type": "code",
   "execution_count": null,
   "metadata": {},
   "outputs": [],
   "source": [
    "compile - метод для создания объект шаблона\n",
    "match - метод ищет совпадение по заданному шаблону. Поиск ведётся с начала строки\n",
    "search - возвращает одну найденную строку\n",
    "findall - метод возвращает список всех найденных совпадений\n",
    "sub - метод ищет шаблон в строке и заменяет его на указанную подстроку. Идеально подходит для замены неприличных слов в сообщений.\n",
    "group - метод выводит результат\n",
    "start - номер начальной позиции поиска\n",
    "end - номер последней позиции поиска\n",
    "Небольшая шпаргалка по символам для шаблона.\n",
    "\n",
    "Символ\tОписание\n",
    ".\tОдин любой символ, кроме новой строки \\n.\n",
    "?\t0 или 1 вхождение шаблона слева\n",
    "+\t1 и более вхождений шаблона слева\n",
    "*\t0 и более вхождений шаблона слева\n",
    "\\w\tЛюбая цифра или буква (\\W — все, кроме буквы или цифры)\n",
    "\\d\tЛюбая цифра [0-9] (\\D — все, кроме цифры)\n",
    "\\s\tЛюбой пробельный символ (\\S — любой непробельный символ)\n",
    "\\b\tГраница слова\n",
    "[..]\tОдин из символов в скобках ([^..] — любой символ, кроме тех, что в скобках)\n",
    "\\\tЭкранирование специальных символов (\\. означает точку или \\+ — знак «плюс»)\n",
    "^ и $\tНачало и конец строки соответственно\n",
    "{n,m}\tОт n до m вхождений ({,m} — от 0 до m)\n",
    "a|b\tСоответствует a или b\n",
    "()\tГруппирует выражение и возвращает найденный текст\n",
    "\\t, \\n, \\r\tСимвол табуляции, новой строки и возврата каретки соответственно"
   ]
  },
  {
   "cell_type": "code",
   "execution_count": 4,
   "metadata": {},
   "outputs": [],
   "source": [
    "text_ = 'Что такое регулярные выражения и как их использовать?'"
   ]
  },
  {
   "cell_type": "code",
   "execution_count": 5,
   "metadata": {},
   "outputs": [
    {
     "data": {
      "text/plain": [
       "['Что', 'такое', 'регулярные', 'выражения', 'и', 'как', 'их', 'использовать']"
      ]
     },
     "execution_count": 5,
     "metadata": {},
     "output_type": "execute_result"
    }
   ],
   "source": [
    "# Это будет список из слов, без пробелов и служебных символов и т д\n",
    "\n",
    "re.findall('[\\w]+', text_)"
   ]
  },
  {
   "cell_type": "code",
   "execution_count": 6,
   "metadata": {},
   "outputs": [
    {
     "data": {
      "text/plain": [
       "['Что',\n",
       " '',\n",
       " 'такое',\n",
       " '',\n",
       " 'регулярные',\n",
       " '',\n",
       " 'выражения',\n",
       " '',\n",
       " 'и',\n",
       " '',\n",
       " 'как',\n",
       " '',\n",
       " 'их',\n",
       " '',\n",
       " 'использовать',\n",
       " '',\n",
       " '']"
      ]
     },
     "execution_count": 6,
     "metadata": {},
     "output_type": "execute_result"
    }
   ],
   "source": [
    "# любое вхождение и пробелы= 0 количество вхождений \n",
    "re.findall('[\\w]*', text_)"
   ]
  },
  {
   "cell_type": "code",
   "execution_count": 8,
   "metadata": {},
   "outputs": [],
   "source": [
    "text_1 = 'Что такое регулярные'"
   ]
  },
  {
   "cell_type": "code",
   "execution_count": 9,
   "metadata": {},
   "outputs": [
    {
     "data": {
      "text/plain": [
       "['Ч',\n",
       " 'т',\n",
       " 'о',\n",
       " '',\n",
       " 'т',\n",
       " 'а',\n",
       " 'к',\n",
       " 'о',\n",
       " 'е',\n",
       " '',\n",
       " 'р',\n",
       " 'е',\n",
       " 'г',\n",
       " 'у',\n",
       " 'л',\n",
       " 'я',\n",
       " 'р',\n",
       " 'н',\n",
       " 'ы',\n",
       " 'е',\n",
       " '']"
      ]
     },
     "execution_count": 9,
     "metadata": {},
     "output_type": "execute_result"
    }
   ],
   "source": [
    "#  список из символов без пробельных символов, но с \"0\" вхождением\n",
    "re.findall('[\\w]?', text_1)"
   ]
  },
  {
   "cell_type": "code",
   "execution_count": 21,
   "metadata": {},
   "outputs": [
    {
     "data": {
      "text/plain": [
       "['Что такое регулярные выражения и как их использовать',\n",
       " '        Говоря простым языком, регулярное выражение — это последовательность символов,        используемая для поиска и замены текста в строке или файле',\n",
       " ' Как уже было упомянуто,        их поддерживает множество языков общего назначения: Python, Perl, R',\n",
       " '        Так что изучение регулярных выражений рано или поздно пригодится',\n",
       " '']"
      ]
     },
     "execution_count": 21,
     "metadata": {},
     "output_type": "execute_result"
    }
   ],
   "source": [
    "# разобъем текст на предложение (примитивным вариантом)=  список из элементов- одна строка\n",
    "res = re.split('[\\.?]', text)\n",
    "res"
   ]
  },
  {
   "cell_type": "code",
   "execution_count": 22,
   "metadata": {},
   "outputs": [
    {
     "data": {
      "text/plain": [
       "5"
      ]
     },
     "execution_count": 22,
     "metadata": {},
     "output_type": "execute_result"
    }
   ],
   "source": [
    "len(res)"
   ]
  },
  {
   "cell_type": "code",
   "execution_count": 23,
   "metadata": {},
   "outputs": [
    {
     "data": {
      "text/plain": [
       "'Что такое Regex и как их использовать?        Говоря простым языком, Regex — это последовательность символов,        используемая для поиска и замены текста в строке или файле. Как уже было упомянуто,        их поддерживает множество языков общего назначения: Python, Perl, R.        Так что изучение Regex рано или поздно пригодится.'"
      ]
     },
     "execution_count": 23,
     "metadata": {},
     "output_type": "execute_result"
    }
   ],
   "source": [
    "# произведем замену Match object на слово 'Regex'\n",
    "res = re.sub(pattern, 'Regex', text)\n",
    "res"
   ]
  },
  {
   "cell_type": "code",
   "execution_count": 24,
   "metadata": {},
   "outputs": [
    {
     "data": {
      "text/plain": [
       "['Гепард', 'гепард']"
      ]
     },
     "execution_count": 24,
     "metadata": {},
     "output_type": "execute_result"
    }
   ],
   "source": [
    "# ИЛИ | ищем или то или это (два значения)\n",
    "\n",
    "fastest_animal = 'Гепард - самое быстрое животное, гепард'\n",
    "re.findall('гепард|Гепард', fastest_animal)"
   ]
  },
  {
   "cell_type": "code",
   "execution_count": 7,
   "metadata": {},
   "outputs": [
    {
     "data": {
      "text/plain": [
       "['животное', 'гепард']"
      ]
     },
     "execution_count": 7,
     "metadata": {},
     "output_type": "execute_result"
    }
   ],
   "source": [
    "# ИЛИ |\n",
    "\n",
    "fastest_animal = 'Гепард - самое быстрое животное, гепард'\n",
    "re.findall('гепард|животное', fastest_animal)"
   ]
  },
  {
   "cell_type": "code",
   "execution_count": 12,
   "metadata": {},
   "outputs": [
    {
     "data": {
      "text/plain": [
       "['55', '3333', '44444444444444444']"
      ]
     },
     "execution_count": 12,
     "metadata": {},
     "output_type": "execute_result"
    }
   ],
   "source": [
    "# группировка. Строку перевела в список из элементов в строке, пробелы не входят.  \n",
    "\n",
    "numbers = '55 3333 44444444444444444'\n",
    "re.findall('\\d+', numbers)"
   ]
  },
  {
   "cell_type": "code",
   "execution_count": 15,
   "metadata": {},
   "outputs": [
    {
     "data": {
      "text/plain": [
       "'5 3 4'"
      ]
     },
     "execution_count": 15,
     "metadata": {},
     "output_type": "execute_result"
    }
   ],
   "source": [
    "# группировка. Строку перевела в список из элементов в строке, пробелы не входят.  \n",
    "\n",
    "numbers = '55 3333 44444444444444444'\n",
    "re.sub('(\\d)+', r'\\1', numbers)"
   ]
  },
  {
   "cell_type": "code",
   "execution_count": 28,
   "metadata": {},
   "outputs": [
    {
     "data": {
      "text/plain": [
       "['5', '3', '4']"
      ]
     },
     "execution_count": 28,
     "metadata": {},
     "output_type": "execute_result"
    }
   ],
   "source": [
    "# () - показывает группу вхождения-одинаковых этих цифр, но судя по нижнему примеру - показывает по поледнему элементу\n",
    "# позволяет избавляться от опечаток \n",
    "re.findall('(\\d)+', numbers)\n"
   ]
  },
  {
   "cell_type": "code",
   "execution_count": 32,
   "metadata": {},
   "outputs": [
    {
     "data": {
      "text/plain": [
       "['9', '1', '2']"
      ]
     },
     "execution_count": 32,
     "metadata": {},
     "output_type": "execute_result"
    }
   ],
   "source": [
    "#\n",
    "numbers = '59 3801 443448445449443444442'\n",
    "re.findall('(\\d)+', numbers)"
   ]
  },
  {
   "cell_type": "code",
   "execution_count": 33,
   "metadata": {},
   "outputs": [
    {
     "data": {
      "text/plain": [
       "['4.44', '10.88']"
      ]
     },
     "execution_count": 33,
     "metadata": {},
     "output_type": "execute_result"
    }
   ],
   "source": [
    "# Lookaround - смотрив все что до и от (возможно начала). Благодаря ему мы не получаем RUB в итоге\n",
    "prices = 'RUB4.44, RUB10.88'\n",
    "regex_prices = '(?<=RUB)[0-9\\.]*' # все что после ?<=RUB и формат прописали- число от 0-9 и чифры после запятой\n",
    "\n",
    "re.findall(regex_prices, prices)"
   ]
  },
  {
   "cell_type": "code",
   "execution_count": 36,
   "metadata": {},
   "outputs": [
    {
     "data": {
      "text/plain": [
       "'30.08.1991'"
      ]
     },
     "execution_count": 36,
     "metadata": {},
     "output_type": "execute_result"
    }
   ],
   "source": [
    "# обращение к группам\n",
    "\n",
    "date = '08/30/1991'\n",
    "re.sub(r'(\\d\\d)/(\\d\\d)/(\\d{4})', r'\\2.\\1.\\3', date)\n",
    "# r'(\\d\\d)/(\\d\\d)/(\\d{4})' присваиваются порядковые номера -r'(\\d\\d) это \"1\",следующий элемент это 2 и последний -3\n",
    "# для вывода мы поменяли их местами используя индекс. Через точки"
   ]
  },
  {
   "cell_type": "code",
   "execution_count": 38,
   "metadata": {},
   "outputs": [
    {
     "data": {
      "text/plain": [
       "'\\x02.\\x01.\\x03'"
      ]
     },
     "execution_count": 38,
     "metadata": {},
     "output_type": "execute_result"
    }
   ],
   "source": [
    "# если уберем r' то получим странный формат. Все регулярки советуют писать с r'\n",
    "\n",
    "date = '08/30/1991'\n",
    "re.sub('(\\d\\d)/(\\d\\d)/(\\d{4})', '\\2.\\1.\\3', date)\n",
    "# r'(\\d\\d)/(\\d\\d)/(\\d{4})' присваиваются порядковые номера -r'(\\d\\d) это \"1\",следующий элемент это 2 и последний -3\n",
    "# для вывода мы поменяли их местами используя индекс. Через точки"
   ]
  },
  {
   "cell_type": "markdown",
   "metadata": {},
   "source": [
    "### Практика"
   ]
  },
  {
   "cell_type": "code",
   "execution_count": 40,
   "metadata": {},
   "outputs": [],
   "source": [
    "# необходимо из строки с условными датами вытащить их\n",
    "registration = 'Date of start: 4-12. Date of registration: 20-11'"
   ]
  },
  {
   "cell_type": "code",
   "execution_count": 43,
   "metadata": {},
   "outputs": [
    {
     "data": {
      "text/plain": [
       "['4-12', '20-11']"
      ]
     },
     "execution_count": 43,
     "metadata": {},
     "output_type": "execute_result"
    }
   ],
   "source": [
    "re.findall('\\d+-\\d+',registration)\n",
    "#получается мы ищем цифры слева и справа от дифиса. "
   ]
  },
  {
   "cell_type": "code",
   "execution_count": 45,
   "metadata": {},
   "outputs": [
    {
     "data": {
      "text/plain": [
       "['4-12', '20-11']"
      ]
     },
     "execution_count": 45,
     "metadata": {},
     "output_type": "execute_result"
    }
   ],
   "source": [
    "re.findall('\\d{1,2}-\\d{1,2}', registration)\n",
    "#получается мы ищем цифры слева и справа от дифиса. Поставим ограничение - этих цифр не более 2-х"
   ]
  },
  {
   "cell_type": "code",
   "execution_count": 49,
   "metadata": {},
   "outputs": [],
   "source": [
    "# простыс способом определить домен в зоне .com\n",
    "domain = 'www.site.com'"
   ]
  },
  {
   "cell_type": "code",
   "execution_count": 50,
   "metadata": {},
   "outputs": [
    {
     "data": {
      "text/plain": [
       "['.com']"
      ]
     },
     "execution_count": 50,
     "metadata": {},
     "output_type": "execute_result"
    }
   ],
   "source": [
    "result = re.findall('\\.com', domain)\n",
    "result\n",
    "# здесь мы нашли только зону, а не весь com"
   ]
  },
  {
   "cell_type": "code",
   "execution_count": 51,
   "metadata": {},
   "outputs": [
    {
     "data": {
      "text/plain": [
       "['www.site.com']"
      ]
     },
     "execution_count": 51,
     "metadata": {},
     "output_type": "execute_result"
    }
   ],
   "source": [
    "result = re.findall('www.*.com', domain)\n",
    "result\n",
    "# здесь весь адрес в списке "
   ]
  },
  {
   "cell_type": "code",
   "execution_count": 53,
   "metadata": {},
   "outputs": [
    {
     "data": {
      "text/plain": [
       "[('www.site', '.com')]"
      ]
     },
     "execution_count": 53,
     "metadata": {},
     "output_type": "execute_result"
    }
   ],
   "source": [
    "result = re.findall('(.*)(.com)', domain)\n",
    "result\n",
    "# здесь весь адрес в сложном формате"
   ]
  },
  {
   "cell_type": "code",
   "execution_count": 58,
   "metadata": {},
   "outputs": [],
   "source": [
    "# напишите регулярку, которая отберет только валидный email в зоне com\n",
    "emails = ['n.john.smith@gmail.com', '87victory@hotmail.com', '!#mary-=@msca.net']"
   ]
  },
  {
   "cell_type": "code",
   "execution_count": 64,
   "metadata": {},
   "outputs": [],
   "source": [
    "# регулятор, который проверит на валидность (верность)написания адреса\n",
    "regex_mails = '[A-Za-z0-9-_\\.]+@[a-zA-Z0-9_]+\\.[a-zA-Z]{2,6}'"
   ]
  },
  {
   "cell_type": "code",
   "execution_count": 65,
   "metadata": {},
   "outputs": [
    {
     "name": "stdout",
     "output_type": "stream",
     "text": [
      "The email n.john.smith@gmail.com is a valid email\n",
      "The email 87victory@hotmail.com is a valid email\n",
      "The email !#mary-=@msca.net is invalid\n"
     ]
    }
   ],
   "source": [
    "for email in emails:\n",
    "    if re.match(regex_mails, email):\n",
    "        print('The email {} is a valid email'.format(email))\n",
    "    else:\n",
    "        print('The email {} is invalid'.format(email))   "
   ]
  },
  {
   "cell_type": "code",
   "execution_count": null,
   "metadata": {},
   "outputs": [],
   "source": [
    "# напишите регулярку, которая отберет только валидный пароль по критериям:\n",
    "# - содержит латинские символы в верхнем и нижнем регистре;\n",
    "# - содержит числа;\n",
    "# - содержит символы из *, #, $, %, !, &, .;\n",
    "# - от 8 до 20 символов в длину;\n",
    "passwords = ['Apple34!rose', 'My87hou#4$', 'abc123']"
   ]
  },
  {
   "cell_type": "code",
   "execution_count": null,
   "metadata": {},
   "outputs": [],
   "source": []
  },
  {
   "cell_type": "code",
   "execution_count": null,
   "metadata": {},
   "outputs": [],
   "source": [
    "for password in passwords:\n",
    "    if re.search(regex_pass, password):\n",
    "        print('The password {} is a valid password'.format(password))\n",
    "    else:\n",
    "        print('The password {} is invalid'.format(password))  "
   ]
  },
  {
   "cell_type": "code",
   "execution_count": null,
   "metadata": {},
   "outputs": [],
   "source": [
    "# выделить группы символов из посадочного талона, где:\n",
    "# - первые 2 символа - это авиакомпания;\n",
    "# - 4 следующие символа - номер рейса;\n",
    "# - 3 следующих символа - аэропорт отправления;\n",
    "# - 3 следюущих - аэропорт прибытия;\n",
    "# - оставшиеся - дата рейса\n",
    "# Все буквы всегда в верхнем регистре"
   ]
  },
  {
   "cell_type": "code",
   "execution_count": 79,
   "metadata": {},
   "outputs": [],
   "source": [
    "flight = 'Boarding pass: LA4214 AER-CDB 06NOV'"
   ]
  },
  {
   "cell_type": "code",
   "execution_count": 83,
   "metadata": {},
   "outputs": [],
   "source": [
    "regex_flight = '([A-Z]{2})(\\d{4})\\s([A-Z]{3})-([A-Z]{3})\\s(\\d{2}\\w+)'"
   ]
  },
  {
   "cell_type": "code",
   "execution_count": 84,
   "metadata": {},
   "outputs": [],
   "source": [
    "flight_result = re.findall(regex_flight, flight)"
   ]
  },
  {
   "cell_type": "code",
   "execution_count": 85,
   "metadata": {},
   "outputs": [
    {
     "name": "stdout",
     "output_type": "stream",
     "text": [
      "[('LA', '4214', 'AER', 'CDB', '06NOV')]\n"
     ]
    }
   ],
   "source": [
    "print(flight_result)\n",
    "# Добрый день! Метод re.findall() находит все совпадения, в соответствие с переданным регулярным \n",
    "# выражением и возвращает список этих совпадений. \n",
    "# Если список вернулся пустой, значит регулярному выражению не соответствовало ничего подходящего переданному выражению"
   ]
  },
  {
   "cell_type": "code",
   "execution_count": null,
   "metadata": {},
   "outputs": [],
   "source": []
  },
  {
   "cell_type": "code",
   "execution_count": 91,
   "metadata": {},
   "outputs": [],
   "source": [
    "# напишите регулярку, которая отберет только животных с их количество\n",
    "my_pets = 'У меня 2 кошки, 1 собака и 3 попугая'"
   ]
  },
  {
   "cell_type": "code",
   "execution_count": 92,
   "metadata": {},
   "outputs": [],
   "source": [
    "regex_pets = r'\\d+\\s[а-я]+'"
   ]
  },
  {
   "cell_type": "code",
   "execution_count": 93,
   "metadata": {},
   "outputs": [],
   "source": [
    "result_pets = re.findall(regex_pets, my_pets)"
   ]
  },
  {
   "cell_type": "code",
   "execution_count": 94,
   "metadata": {},
   "outputs": [
    {
     "data": {
      "text/plain": [
       "['2 кошки', '1 собака', '3 попугая']"
      ]
     },
     "execution_count": 94,
     "metadata": {},
     "output_type": "execute_result"
    }
   ],
   "source": [
    "result_pets"
   ]
  },
  {
   "cell_type": "code",
   "execution_count": null,
   "metadata": {},
   "outputs": [],
   "source": []
  }
 ],
 "metadata": {
  "kernelspec": {
   "display_name": "Python 3",
   "language": "python",
   "name": "python3"
  },
  "language_info": {
   "codemirror_mode": {
    "name": "ipython",
    "version": 3
   },
   "file_extension": ".py",
   "mimetype": "text/x-python",
   "name": "python",
   "nbconvert_exporter": "python",
   "pygments_lexer": "ipython3",
   "version": "3.7.4"
  }
 },
 "nbformat": 4,
 "nbformat_minor": 2
}
