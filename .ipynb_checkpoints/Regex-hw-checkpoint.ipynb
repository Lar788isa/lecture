{
 "cells": [
  {
   "cell_type": "markdown",
   "metadata": {},
   "source": [
    "# Домашнее задание к лекции \"Регулярные выражения\"\n",
    "Для зачета необходимо выполнить 4 задания.  \n",
    "Для зачета с отличием – все."
   ]
  },
  {
   "cell_type": "markdown",
   "metadata": {},
   "source": [
    "## Задание 1"
   ]
  },
  {
   "cell_type": "markdown",
   "metadata": {},
   "source": [
    "Напишите функцию, которая принимает на вход строку и проверяет является ли она валидным транспортным номером. Если да, то функция должна возвращать отдельно номер и регион."
   ]
  },
  {
   "cell_type": "code",
   "execution_count": 3,
   "metadata": {},
   "outputs": [],
   "source": [
    "import re"
   ]
  },
  {
   "cell_type": "code",
   "execution_count": 1,
   "metadata": {},
   "outputs": [],
   "source": [
    "def numb_car(number):\n",
    "    number = input('Введите данные: ')\n",
    "    regex_number = '([А,В,Е,К,М,Н,О,Р,С,Т,У,Х]{1})(\\d{3})([А,В,Е,К,М,Н,О,Р,С,Т,У,Х]{2})(\\d{2,3})'\n",
    "    if re.findall(regex_number,number):\n",
    "        print(re.sub(r'(\\w)(\\d\\d\\d)(\\w{2})(\\d{2,3})', r'\\2  \\4',number))\n",
    "    else:\n",
    "        print('Номер не верный')"
   ]
  },
  {
   "cell_type": "code",
   "execution_count": 4,
   "metadata": {},
   "outputs": [
    {
     "name": "stdout",
     "output_type": "stream",
     "text": [
      "Введите данные: М065РК54\n",
      "065  54\n"
     ]
    }
   ],
   "source": [
    "numb_car('number')"
   ]
  },
  {
   "cell_type": "code",
   "execution_count": 37,
   "metadata": {},
   "outputs": [
    {
     "name": "stdout",
     "output_type": "stream",
     "text": [
      "Введите данные: Ф098МК54\n",
      "Номер не верный\n"
     ]
    }
   ],
   "source": [
    "numb_car('number')"
   ]
  },
  {
   "cell_type": "code",
   "execution_count": 38,
   "metadata": {},
   "outputs": [
    {
     "name": "stdout",
     "output_type": "stream",
     "text": [
      "Введите данные: М0987К54\n",
      "Номер не верный\n"
     ]
    }
   ],
   "source": [
    "numb_car('number')"
   ]
  },
  {
   "cell_type": "markdown",
   "metadata": {},
   "source": [
    "## Задание 2"
   ]
  },
  {
   "cell_type": "markdown",
   "metadata": {},
   "source": [
    "Напишите функцию, которая проверяет e-mail адрес на валидность по стандарту RFC822: http://www.w3.org/Protocols/rfc822/. Для этого постарайтесь написать (в крайнем случае найти) самый полный шаблон для проверки e-mail адресов через регулярное выражение. Разберитесь и напишите примеры, какие ваш шаблон может не охватить."
   ]
  },
  {
   "cell_type": "code",
   "execution_count": 29,
   "metadata": {},
   "outputs": [],
   "source": [
    "def cor_mails():\n",
    "    email = input('email- ')\n",
    "    # что только одна @\n",
    "    regex_a = '\\@{1}'\n",
    "    if len(re.findall(regex_a,email)) != 1:\n",
    "        return('The email {} is invalid'.format(email))\n",
    "    \n",
    "    #проверяем на исключение символов\n",
    "    regex_mails_exclude = '([\\s,\\!,\\#,\\%,\\*,\\\\,\\,,\\:,\\;,\\(,\\),\\+,\\=,\\{,\\},\\[,\\],\\',\\\",\\/,\\|]+)'\n",
    "    if re.findall(regex_mails_exclude, email):\n",
    "        return('The email {} is invalid'.format(email))\n",
    "    \n",
    "    # проверяет условие что до @ от ближайшей точки не менее 2-х элементов\n",
    "    regex_mails_2 = '\\.?[a-zA-Z0-9_]{2,}@'\n",
    "    if re.findall(regex_mails_2,email)== []:\n",
    "        return('The email {} is invalid'.format(email))\n",
    "    \n",
    "    # проверяем, что до @ не менее 4-х символов\n",
    "    regex_mails_4 = '(.{4,})@'\n",
    "    if re.findall(regex_mails_4,email) == []:\n",
    "        return('The email {} is invalid'.format(email)) \n",
    "    \n",
    "    # проверяем что адрес только латинскими буквами, после @ есть точка, а после точки от 2-4 буквы \n",
    "    regex_mails_rul = '@[a-zA-Z]+\\.[a-zA-Z]{2,4}'\n",
    "    if re.search(regex_mails_rul,email) == None: \n",
    "        return('The email {} is invalid'.format(email)) \n",
    "    \n",
    "    return('The email is a valid email'.format(email)) "
   ]
  },
  {
   "cell_type": "code",
   "execution_count": 16,
   "metadata": {},
   "outputs": [
    {
     "name": "stdout",
     "output_type": "stream",
     "text": [
      "email- n.john.th@gmail.com\n"
     ]
    },
    {
     "data": {
      "text/plain": [
       "'The email is a valid email'"
      ]
     },
     "execution_count": 16,
     "metadata": {},
     "output_type": "execute_result"
    }
   ],
   "source": [
    "cor_mails()"
   ]
  },
  {
   "cell_type": "code",
   "execution_count": 34,
   "metadata": {},
   "outputs": [],
   "source": [
    "def cor_mails(email):\n",
    "    #email = input('email- ')\n",
    "    # что только одна @\n",
    "    regex_a = '\\@{1}'\n",
    "    if len(re.findall(regex_a,email)) != 1:\n",
    "        print('The email {} is invalid'.format(email))\n",
    "        return\n",
    "    \n",
    "    #проверяем на исключение символов\n",
    "    regex_mails_exclude = '([\\s,\\!,\\#,\\%,\\*,\\\\,\\,,\\:,\\;,\\(,\\),\\+,\\=,\\{,\\},\\[,\\],\\',\\\",\\/,\\|]+)'\n",
    "    if re.findall(regex_mails_exclude, email):\n",
    "        print('The email {} is invalid'.format(email))\n",
    "        return\n",
    "    \n",
    "    # проверяет условие что до @ от ближайшей точки не менее 2-х элементов\n",
    "    regex_mails_2 = '\\.?[a-zA-Z0-9_]{2,}@'\n",
    "    if re.findall(regex_mails_2,email)== []:\n",
    "        print('The email {} is invalid'.format(email))\n",
    "        return\n",
    "    \n",
    "    # проверяем, что до @ не менее 4-х символов\n",
    "    regex_mails_4 = '(.{4,})@'\n",
    "    if re.findall(regex_mails_4,email) == []:\n",
    "        print('The email {} is invalid'.format(email)) \n",
    "        return\n",
    "    \n",
    "    # проверяем что адрес только латинскими буквами, после @ есть точка, а после точки от 2-4 буквы \n",
    "    regex_mails_rul = '@[a-zA-Z]+\\.[a-zA-Z]{2,4}'\n",
    "    if re.search(regex_mails_rul,email) == None: \n",
    "        print('The email {} is invalid'.format(email))\n",
    "        return \n",
    "    \n",
    "    print('The email {} is a valid email'.format(email)) "
   ]
  },
  {
   "cell_type": "code",
   "execution_count": 37,
   "metadata": {},
   "outputs": [],
   "source": [
    "emails = ['n.john.smith@gmail.com', '87victory@hotmail.com', '!#mary-=@msca.net', 'n.john.h@gmail.com','n.john.smith@gmaily@hoil.com']"
   ]
  },
  {
   "cell_type": "code",
   "execution_count": 38,
   "metadata": {},
   "outputs": [
    {
     "name": "stdout",
     "output_type": "stream",
     "text": [
      "The email n.john.smith@gmail.com is a valid email\n",
      "The email 87victory@hotmail.com is a valid email\n",
      "The email !#mary-=@msca.net is invalid\n",
      "The email n.john.h@gmail.com is invalid\n",
      "The email n.john.smith@gmaily@hoil.com is invalid\n"
     ]
    }
   ],
   "source": [
    "for email in emails:\n",
    "    cor_mails(email)"
   ]
  },
  {
   "cell_type": "markdown",
   "metadata": {},
   "source": [
    "## Задание 3\n",
    "Напишите функцию, которая будет удалять все последовательные повторы слов из заданной строки."
   ]
  },
  {
   "cell_type": "code",
   "execution_count": 12,
   "metadata": {},
   "outputs": [],
   "source": [
    "text = 'Write a function that will will will remove all all consecutive word repeats from from a given given'\n"
   ]
  },
  {
   "cell_type": "code",
   "execution_count": 13,
   "metadata": {},
   "outputs": [],
   "source": [
    "def del_repeats(text):\n",
    "    return re.sub(r'(\\b\\w+)(\\s\\1)+', r'\\1', text)"
   ]
  },
  {
   "cell_type": "code",
   "execution_count": 14,
   "metadata": {},
   "outputs": [
    {
     "data": {
      "text/plain": [
       "'Write a function that will remove all consecutive word repeats from a given'"
      ]
     },
     "execution_count": 14,
     "metadata": {},
     "output_type": "execute_result"
    }
   ],
   "source": [
    "del_repeats(text)"
   ]
  },
  {
   "cell_type": "markdown",
   "metadata": {},
   "source": [
    "## Задание 4\n",
    "Напишите функцию, которая будет проверять номер сотового телефона на валидность, если он валиден, то переводить его в формат:   \n",
    "+7(xxx)-xxx-xx-xx  \n",
    "Постарайтесь предусмотреть как можно больше адекватных форматов изначального ввода номера.\n",
    "Примеры правильных и неправильных форматов:\n",
    "- +7 955 555-55-55;\n",
    "- 955555555;\n",
    "- 8(955)555-55-55;\n",
    "- +7 955 555 55 55;\n",
    "- 7(955) 555-55-55;\n",
    "- +7 955+555+55+55."
   ]
  },
  {
   "cell_type": "code",
   "execution_count": 3,
   "metadata": {},
   "outputs": [
    {
     "name": "stdout",
     "output_type": "stream",
     "text": [
      "+7(911)-555-55-55 \n",
      "ошибка. Не верный номер - 922555555\n",
      "+7(933)-555-55-55 \n",
      "+7(944)-555-55-55 \n",
      "ошибка. Не верный номер - 7(9557555-55-55\n",
      "+7(966)-555-55-55 \n",
      "+7(977)-555-55-55 \n",
      "+7(988)-555-55-55 \n"
     ]
    }
   ],
   "source": [
    "grop_number = ['+7 911 555-55-55', '922555555', '8(933?555-55-55', '7 944 555 55 55', '7(9557555-55-55', '+7 966+555+55+55', '89775555555', '9885555555']\n",
    "\n",
    "for number in grop_number:\n",
    "#вариант +7 и просто 7,8,9 и между числами пробел или символ\n",
    "    regex_telf = '([+7,8,9,7]{1})(\\W)(\\d{3})(\\W)(\\d{3})(\\W)(\\d{2})(\\W)(\\d{2})'\n",
    "#варианты с 8 9  и вместе\n",
    "    regex_telf_2 = r'(8?)(9)(\\d{2})(\\d{3})(\\d{2})(\\d{2})'\n",
    "    if re.findall(regex_telf_2,number):\n",
    "        print(re.sub(r'(8?)(9)(\\d{2})(\\d{3})(\\d{2})(\\d{2})', r'+7(\\2\\3)-\\4-\\5-\\6 ' ,number))\n",
    "     \n",
    "    elif re.findall(regex_telf,number):\n",
    "        print(re.sub(r'(\\+?)([8,9,7]{1})(\\W)(\\d{3})(\\W)(\\d{3})(\\W)(\\d{2})(\\W)(\\d{2})', r'+7(\\4)-\\6-\\8-\\10 ' ,number))\n",
    "    \n",
    "    else:\n",
    "        print(f\"ошибка. Не верный номер - {number}\")\n"
   ]
  }
 ],
 "metadata": {
  "kernelspec": {
   "display_name": "Python 3",
   "language": "python",
   "name": "python3"
  },
  "language_info": {
   "codemirror_mode": {
    "name": "ipython",
    "version": 3
   },
   "file_extension": ".py",
   "mimetype": "text/x-python",
   "name": "python",
   "nbconvert_exporter": "python",
   "pygments_lexer": "ipython3",
   "version": "3.7.4"
  }
 },
 "nbformat": 4,
 "nbformat_minor": 2
}
