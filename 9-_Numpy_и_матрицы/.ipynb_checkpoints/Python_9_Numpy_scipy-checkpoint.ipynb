{
 "cells": [
  {
   "cell_type": "markdown",
   "metadata": {},
   "source": [
    "# Что сегодня сделаем\n",
    "Рекомендательный алгоритм сопутствующих товаров для пользователя"
   ]
  },
  {
   "cell_type": "markdown",
   "metadata": {},
   "source": [
    "### Повторим списки и словари\n",
    "Статистика взята с сайта http://www.bodycounters.com\n",
    "\n",
    "Дана статистика погибших в серии фильмов \"Пираты Карибского моря\". Посчитайте среднее число погибших людей в каждом фильме. Пиратов зомби за людей не считайте."
   ]
  },
  {
   "cell_type": "code",
   "execution_count": 3,
   "metadata": {},
   "outputs": [],
   "source": [
    "stats = [\n",
    "    {\n",
    "        'movie': 'На странных берегах',\n",
    "        'bodycount': {'люди': 56, 'русалки': 2, 'ядовитые жабы': 3, 'пираты-зомби': 2}\n",
    "    },\n",
    "    {\n",
    "        'movie': 'На краю света',\n",
    "        'bodycount': {'люди': 88}\n",
    "    },\n",
    "    {\n",
    "        'movie': 'Сундук мертвеца',\n",
    "        'bodycount': {'люди': 56, 'крабы отшельники': 1}\n",
    "    },\n",
    "    {\n",
    "        'movie': 'Проклятие Черной жемчужины',\n",
    "        'bodycount': {'люди': 17}\n",
    "    },\n",
    "]"
   ]
  },
  {
   "cell_type": "markdown",
   "metadata": {},
   "source": [
    "Что можно сделать:\n",
    "1. Пройтись по списку stats\n",
    "2. В каждом элементе взять словарь по ключу 'bodycount'\n",
    "3. В словаре по ключу 'bodycount' взять значение ключа 'люди'\n",
    "4. Просуммировать количество людей во всех шагах\n",
    "5. Поделить сумму людей на количество фильмов"
   ]
  },
  {
   "cell_type": "code",
   "execution_count": 4,
   "metadata": {},
   "outputs": [
    {
     "name": "stdout",
     "output_type": "stream",
     "text": [
      "{'movie': 'На странных берегах', 'bodycount': {'люди': 56, 'русалки': 2, 'ядовитые жабы': 3, 'пираты-зомби': 2}}\n",
      "{'movie': 'На краю света', 'bodycount': {'люди': 88}}\n",
      "{'movie': 'Сундук мертвеца', 'bodycount': {'люди': 56, 'крабы отшельники': 1}}\n",
      "{'movie': 'Проклятие Черной жемчужины', 'bodycount': {'люди': 17}}\n"
     ]
    }
   ],
   "source": [
    "for record in stats:\n",
    "    print(record)"
   ]
  },
  {
   "cell_type": "code",
   "execution_count": 5,
   "metadata": {},
   "outputs": [
    {
     "data": {
      "text/plain": [
       "{'люди': 17}"
      ]
     },
     "execution_count": 5,
     "metadata": {},
     "output_type": "execute_result"
    }
   ],
   "source": [
    "record['bodycount']"
   ]
  },
  {
   "cell_type": "code",
   "execution_count": 6,
   "metadata": {},
   "outputs": [
    {
     "data": {
      "text/plain": [
       "54.25"
      ]
     },
     "execution_count": 6,
     "metadata": {},
     "output_type": "execute_result"
    }
   ],
   "source": [
    "people = 0 \n",
    "movies = 0 \n",
    "for record in stats:\n",
    "    people += record['bodycount']['люди']\n",
    "    movies += 1\n",
    "people/movies"
   ]
  },
  {
   "cell_type": "code",
   "execution_count": 7,
   "metadata": {},
   "outputs": [
    {
     "name": "stdout",
     "output_type": "stream",
     "text": [
      "54.25\n"
     ]
    }
   ],
   "source": [
    "\n",
    "peoples = 0 \n",
    "for record in stats:# сделаем проверку - есть ли такие ключи  \n",
    "    if 'люди' in record ['bodycount']:\n",
    "    \n",
    "        peoples += record['bodycount']['люди']\n",
    "print(peoples/len(stats))"
   ]
  },
  {
   "cell_type": "code",
   "execution_count": 8,
   "metadata": {},
   "outputs": [
    {
     "data": {
      "text/plain": [
       "54.25"
      ]
     },
     "execution_count": 8,
     "metadata": {},
     "output_type": "execute_result"
    }
   ],
   "source": [
    "sum([record['bodycount']['люди'] for record in stats])/len([record['bodycount']['люди'] for record in stats])"
   ]
  },
  {
   "cell_type": "code",
   "execution_count": 9,
   "metadata": {},
   "outputs": [
    {
     "name": "stdout",
     "output_type": "stream",
     "text": [
      "На странных берегах 56\n",
      "На краю света 88\n",
      "Сундук мертвеца 56\n",
      "Проклятие Черной жемчужины 17\n",
      "Среднее кол-во  54.25\n"
     ]
    }
   ],
   "source": [
    "humans = 0\n",
    "body_name = 'люди'\n",
    "for record in stats:\n",
    "    bodies = record.get('bodycount')\n",
    "    body_in_movie = bodies.get (body_name,0)\n",
    "    film_name = record.get('movie')\n",
    "    print(film_name,body_in_movie)\n",
    "    humans += body_in_movie\n",
    "print('Среднее кол-во ', humans/len(stats))"
   ]
  },
  {
   "cell_type": "code",
   "execution_count": 10,
   "metadata": {},
   "outputs": [],
   "source": [
    "# напомним о такой функции get, которая позволяет проверять наличие элемента \n",
    "#  возмем словарь \n",
    "a = {'люди': 123}"
   ]
  },
  {
   "cell_type": "code",
   "execution_count": 11,
   "metadata": {},
   "outputs": [
    {
     "name": "stdout",
     "output_type": "stream",
     "text": [
      "0\n"
     ]
    }
   ],
   "source": [
    "\n",
    "print(a.get('коты', 0))"
   ]
  },
  {
   "cell_type": "code",
   "execution_count": 12,
   "metadata": {},
   "outputs": [
    {
     "ename": "KeyError",
     "evalue": "'коты'",
     "output_type": "error",
     "traceback": [
      "\u001b[0;31m---------------------------------------------------------------------------\u001b[0m",
      "\u001b[0;31mKeyError\u001b[0m                                  Traceback (most recent call last)",
      "\u001b[0;32m<ipython-input-12-0c58bac918a5>\u001b[0m in \u001b[0;36m<module>\u001b[0;34m\u001b[0m\n\u001b[1;32m      1\u001b[0m \u001b[0;31m#   если мы будем обращаться к несуществующему элементу, то получем ошибку.\u001b[0m\u001b[0;34m\u001b[0m\u001b[0;34m\u001b[0m\u001b[0;34m\u001b[0m\u001b[0m\n\u001b[1;32m      2\u001b[0m \u001b[0;31m#    Можно ее предвидеть и если такого элемента нет, мы его заменим на 0\u001b[0m\u001b[0;34m\u001b[0m\u001b[0;34m\u001b[0m\u001b[0;34m\u001b[0m\u001b[0m\n\u001b[0;32m----> 3\u001b[0;31m \u001b[0ma\u001b[0m\u001b[0;34m[\u001b[0m\u001b[0;34m'коты'\u001b[0m\u001b[0;34m]\u001b[0m\u001b[0;34m\u001b[0m\u001b[0;34m\u001b[0m\u001b[0m\n\u001b[0m",
      "\u001b[0;31mKeyError\u001b[0m: 'коты'"
     ]
    }
   ],
   "source": [
    "#   если мы будем обращаться к несуществующему элементу, то получем ошибку.\n",
    "#    Можно ее предвидеть и если такого элемента нет, мы его заменим на 0\n",
    "a['коты']"
   ]
  },
  {
   "cell_type": "code",
   "execution_count": 13,
   "metadata": {},
   "outputs": [
    {
     "name": "stdout",
     "output_type": "stream",
     "text": [
      "None\n"
     ]
    }
   ],
   "source": [
    " # так тоже не очень подходит возвращает - None  это для расчетов плохо. \n",
    "print(a.get('коты'))"
   ]
  },
  {
   "cell_type": "code",
   "execution_count": 14,
   "metadata": {},
   "outputs": [
    {
     "data": {
      "text/plain": [
       "0"
      ]
     },
     "execution_count": 14,
     "metadata": {},
     "output_type": "execute_result"
    }
   ],
   "source": [
    "# здесь мы делаем проверку, если такого элемента нет- не ломаем код а просто меняем на  0\n",
    "a.get('коты', 0)"
   ]
  },
  {
   "cell_type": "code",
   "execution_count": 15,
   "metadata": {},
   "outputs": [
    {
     "name": "stdout",
     "output_type": "stream",
     "text": [
      "54\n"
     ]
    }
   ],
   "source": [
    "count_people = 0\n",
    "for record in stats:\n",
    "    for key, value in record.items():\n",
    "        if key == 'bodycount':\n",
    "            count_people += value['люди']\n",
    "        else:  # эти две строчки не нужны здесь цикл и так будет переходить на следующий элемент\n",
    "            continue   #\n",
    "print (round(count_people/ len(stats)))"
   ]
  },
  {
   "cell_type": "code",
   "execution_count": 16,
   "metadata": {},
   "outputs": [
    {
     "name": "stdout",
     "output_type": "stream",
     "text": [
      "17\n"
     ]
    }
   ],
   "source": [
    "# верхний вариант не лучший , можно сократить код и уменьшить время \n",
    "count_people = 0\n",
    "for record in stats:\n",
    "    key == record['bodycount']\n",
    "    count_people += value['люди']\n",
    "    \n",
    "print (round(count_people/ len(stats)))\n",
    "\n",
    "#ответ правда не верный , но искать ошибку не когда "
   ]
  },
  {
   "cell_type": "code",
   "execution_count": 17,
   "metadata": {},
   "outputs": [],
   "source": [
    " a = [['123', 233], ['bgh', 987]] # это  набор списков работая с ним код проходит по каждому элементу и \n",
    "     # если их будет миллион то прога будте работать долго"
   ]
  },
  {
   "cell_type": "code",
   "execution_count": 18,
   "metadata": {},
   "outputs": [
    {
     "name": "stdout",
     "output_type": "stream",
     "text": [
      "['123', 233]\n"
     ]
    }
   ],
   "source": [
    "for item in a:\n",
    "    if item[0] == '123':\n",
    "        print(item)"
   ]
  },
  {
   "cell_type": "code",
   "execution_count": 19,
   "metadata": {},
   "outputs": [],
   "source": [
    "# если переведете в словарь то работа ускориться в разы \n",
    "a = {\n",
    "    '123': 1,\n",
    "    '233': 2\n",
    "}"
   ]
  },
  {
   "cell_type": "code",
   "execution_count": 20,
   "metadata": {},
   "outputs": [
    {
     "data": {
      "text/plain": [
       "1"
      ]
     },
     "execution_count": 20,
     "metadata": {},
     "output_type": "execute_result"
    }
   ],
   "source": [
    "# интересно ! не надо писать цикл по ключам - сразу обращаемся бурем ключ\n",
    "a['123']"
   ]
  },
  {
   "cell_type": "markdown",
   "metadata": {},
   "source": [
    "# Numpy и матричная алгебра"
   ]
  },
  {
   "cell_type": "code",
   "execution_count": 21,
   "metadata": {},
   "outputs": [],
   "source": [
    "import numpy as np"
   ]
  },
  {
   "cell_type": "code",
   "execution_count": 22,
   "metadata": {},
   "outputs": [],
   "source": [
    "#   список преобразовали в numpy.ndarray \n",
    "list_ =[1,2,3]"
   ]
  },
  {
   "cell_type": "code",
   "execution_count": 23,
   "metadata": {},
   "outputs": [],
   "source": [
    "# np означает  numpy\n",
    "x = np.array( list_)\n",
    "y = np.array( [4, 5, 6] )"
   ]
  },
  {
   "cell_type": "code",
   "execution_count": 24,
   "metadata": {},
   "outputs": [
    {
     "data": {
      "text/plain": [
       "array([1, 2, 3])"
      ]
     },
     "execution_count": 24,
     "metadata": {},
     "output_type": "execute_result"
    }
   ],
   "source": [
    "x"
   ]
  },
  {
   "cell_type": "code",
   "execution_count": 25,
   "metadata": {},
   "outputs": [
    {
     "data": {
      "text/plain": [
       "numpy.ndarray"
      ]
     },
     "execution_count": 25,
     "metadata": {},
     "output_type": "execute_result"
    }
   ],
   "source": [
    "#  это уже особый объект\n",
    "type(x)"
   ]
  },
  {
   "cell_type": "code",
   "execution_count": 26,
   "metadata": {},
   "outputs": [
    {
     "data": {
      "text/plain": [
       "list"
      ]
     },
     "execution_count": 26,
     "metadata": {},
     "output_type": "execute_result"
    }
   ],
   "source": [
    "# это список \n",
    "type([1, 2, 3])"
   ]
  },
  {
   "cell_type": "code",
   "execution_count": 27,
   "metadata": {},
   "outputs": [
    {
     "data": {
      "text/plain": [
       "[1, 2, 3]"
      ]
     },
     "execution_count": 27,
     "metadata": {},
     "output_type": "execute_result"
    }
   ],
   "source": [
    "# Преобразовали numpy.ndarray  в простой список \n",
    "list(np.array(x))"
   ]
  },
  {
   "cell_type": "code",
   "execution_count": 28,
   "metadata": {},
   "outputs": [
    {
     "data": {
      "text/plain": [
       "2.0"
      ]
     },
     "execution_count": 28,
     "metadata": {},
     "output_type": "execute_result"
    }
   ],
   "source": [
    "# дополнительные методы\n",
    "x.mean()"
   ]
  },
  {
   "cell_type": "code",
   "execution_count": 29,
   "metadata": {},
   "outputs": [
    {
     "ename": "SyntaxError",
     "evalue": "invalid syntax (<ipython-input-29-9be7985ccf21>, line 2)",
     "output_type": "error",
     "traceback": [
      "\u001b[0;36m  File \u001b[0;32m\"<ipython-input-29-9be7985ccf21>\"\u001b[0;36m, line \u001b[0;32m2\u001b[0m\n\u001b[0;31m    x.\u001b[0m\n\u001b[0m      ^\u001b[0m\n\u001b[0;31mSyntaxError\u001b[0m\u001b[0;31m:\u001b[0m invalid syntax\n"
     ]
    }
   ],
   "source": [
    "# ставим точку и нажимаем табуляцию и вываливается куча методов, которыми можно  пользоваться \n",
    "x."
   ]
  },
  {
   "cell_type": "markdown",
   "metadata": {},
   "source": [
    "### Поэлементные операции"
   ]
  },
  {
   "cell_type": "code",
   "execution_count": 30,
   "metadata": {
    "scrolled": true
   },
   "outputs": [],
   "source": [
    "# np означает  numpy\n",
    "x = np.array( [1,2,3,])\n",
    "y = np.array( [4, 5, 6] )"
   ]
  },
  {
   "cell_type": "code",
   "execution_count": 31,
   "metadata": {},
   "outputs": [
    {
     "data": {
      "text/plain": [
       "(array([1, 2, 3]), array([4, 5, 6]))"
      ]
     },
     "execution_count": 31,
     "metadata": {},
     "output_type": "execute_result"
    }
   ],
   "source": [
    "x,y"
   ]
  },
  {
   "cell_type": "code",
   "execution_count": 32,
   "metadata": {},
   "outputs": [
    {
     "data": {
      "text/plain": [
       "array([5, 7, 9])"
      ]
     },
     "execution_count": 32,
     "metadata": {},
     "output_type": "execute_result"
    }
   ],
   "source": [
    "x + y"
   ]
  },
  {
   "cell_type": "code",
   "execution_count": 33,
   "metadata": {},
   "outputs": [
    {
     "data": {
      "text/plain": [
       "array([ 4, 10, 18])"
      ]
     },
     "execution_count": 33,
     "metadata": {},
     "output_type": "execute_result"
    }
   ],
   "source": [
    "x * y"
   ]
  },
  {
   "cell_type": "code",
   "execution_count": 34,
   "metadata": {},
   "outputs": [
    {
     "data": {
      "text/plain": [
       "array([-3, -3, -3])"
      ]
     },
     "execution_count": 34,
     "metadata": {},
     "output_type": "execute_result"
    }
   ],
   "source": [
    "x - y"
   ]
  },
  {
   "cell_type": "code",
   "execution_count": 35,
   "metadata": {},
   "outputs": [
    {
     "data": {
      "text/plain": [
       "array([0.25, 0.4 , 0.5 ])"
      ]
     },
     "execution_count": 35,
     "metadata": {},
     "output_type": "execute_result"
    }
   ],
   "source": [
    "x / y"
   ]
  },
  {
   "cell_type": "code",
   "execution_count": 36,
   "metadata": {},
   "outputs": [
    {
     "data": {
      "text/plain": [
       "(array([1, 2, 3]), array([4, 5, 6]))"
      ]
     },
     "execution_count": 36,
     "metadata": {},
     "output_type": "execute_result"
    }
   ],
   "source": [
    "x, y"
   ]
  },
  {
   "cell_type": "code",
   "execution_count": 37,
   "metadata": {},
   "outputs": [
    {
     "data": {
      "text/plain": [
       "array([  1,  32, 729])"
      ]
     },
     "execution_count": 37,
     "metadata": {},
     "output_type": "execute_result"
    }
   ],
   "source": [
    "# элементы массива x возводятся в соответствующие степени элементов массива y\n",
    "x ** y"
   ]
  },
  {
   "cell_type": "code",
   "execution_count": 38,
   "metadata": {
    "scrolled": true
   },
   "outputs": [
    {
     "data": {
      "text/plain": [
       "array([0, 1, 0])"
      ]
     },
     "execution_count": 38,
     "metadata": {},
     "output_type": "execute_result"
    }
   ],
   "source": [
    "# остаток от деления\n",
    "# обратите внимание, что для удобства данного примера x и y идут в другом порядке\n",
    "\n",
    "y % x"
   ]
  },
  {
   "cell_type": "markdown",
   "metadata": {},
   "source": [
    "### Автоматическое наполнение массивов"
   ]
  },
  {
   "cell_type": "code",
   "execution_count": 39,
   "metadata": {},
   "outputs": [
    {
     "data": {
      "text/plain": [
       "array([0, 1, 2, 3, 4, 5, 6, 7, 8, 9])"
      ]
     },
     "execution_count": 39,
     "metadata": {},
     "output_type": "execute_result"
    }
   ],
   "source": [
    "# аналог range  СОЗДАНИЕ МАССИВА \n",
    "\n",
    "np.arange(0, 10)"
   ]
  },
  {
   "cell_type": "code",
   "execution_count": 40,
   "metadata": {},
   "outputs": [
    {
     "data": {
      "text/plain": [
       "array([1, 1, 1, 1, 1, 1, 1, 1, 1, 1])"
      ]
     },
     "execution_count": 40,
     "metadata": {},
     "output_type": "execute_result"
    }
   ],
   "source": [
    "# создать массив из 10 чисел, заполненных единицами\n",
    "np.full(10, 1)"
   ]
  },
  {
   "cell_type": "code",
   "execution_count": 41,
   "metadata": {},
   "outputs": [
    {
     "data": {
      "text/plain": [
       "array([[0, 0, 0, 0, 0],\n",
       "       [0, 0, 0, 0, 0]])"
      ]
     },
     "execution_count": 41,
     "metadata": {},
     "output_type": "execute_result"
    }
   ],
   "source": [
    "# создать матрицу 2х5 из нулей\n",
    "np.full([2, 5], 0)"
   ]
  },
  {
   "cell_type": "code",
   "execution_count": 42,
   "metadata": {},
   "outputs": [
    {
     "data": {
      "text/plain": [
       "array([ 0,  1,  2,  3,  4,  5,  6,  7,  8,  9, 10, 11, 12, 13, 14, 15, 16,\n",
       "       17, 18, 19])"
      ]
     },
     "execution_count": 42,
     "metadata": {},
     "output_type": "execute_result"
    }
   ],
   "source": [
    "# объединить массивы в один\n",
    "a = np.arange(10)\n",
    "b = np.arange(10, 20)\n",
    "\n",
    "# обратите внимание на двойные скобки\n",
    "np.concatenate((a, b))"
   ]
  },
  {
   "cell_type": "code",
   "execution_count": 43,
   "metadata": {},
   "outputs": [
    {
     "data": {
      "text/plain": [
       "array([8, 3, 2, 6, 5, 1, 9, 7, 0, 4])"
      ]
     },
     "execution_count": 43,
     "metadata": {},
     "output_type": "execute_result"
    }
   ],
   "source": [
    "# перемешать элементы массива\n",
    "import random\n",
    "\n",
    "nums = np.arange(10)\n",
    "random.shuffle(nums)\n",
    "\n",
    "nums"
   ]
  },
  {
   "cell_type": "markdown",
   "metadata": {},
   "source": [
    "### Упражнение\n",
    "По мотивам https://thecode.media/choose-life/\n",
    "\n",
    "По результатам собеседования вам предлагают определенную зарплату. И конверт, который может случайным образом снизить или увеличить эту зарплату вдвое. Т. е. если сначала была сумма Х, то после вскрытия конверта она может стать 0.5Х или 2Х. Как в среднем изменится будущая зарплата, если соискатель решил открыть конверт?\n",
    "\n",
    "Смоделируйте процесс изменения условной зарплаты в 1000 в случае открытия конверта:\n",
    "1. Задайте переменную n_samples = 1000\n",
    "2. Создайте numpy array из n_samples элементов, равных зарплате 0.5Х. И такой же с зарплатой 2Х.\n",
    "3. Объедините их в один массив\n",
    "4. Перемешайте значения в получившемся массиве\n",
    "5. Посчитайте среднее значение зарплаты для объединенного массива"
   ]
  },
  {
   "cell_type": "code",
   "execution_count": 44,
   "metadata": {},
   "outputs": [
    {
     "data": {
      "text/plain": [
       "1.25"
      ]
     },
     "execution_count": 44,
     "metadata": {},
     "output_type": "execute_result"
    }
   ],
   "source": [
    "n_samples = 1000\n",
    "arr_1 = np.full(n_samples, 0.5)\n",
    "arr_2 = np.full(n_samples, 2)\n",
    "arr_c = np.concatenate((arr_1, arr_2))\n",
    "random.shuffle(arr_c) # но на среднее это никак не влияет\n",
    "arr_c.mean()\n"
   ]
  },
  {
   "cell_type": "code",
   "execution_count": 45,
   "metadata": {},
   "outputs": [
    {
     "name": "stdout",
     "output_type": "stream",
     "text": [
      "12500.0\n"
     ]
    }
   ],
   "source": [
    "salary = 10000\n",
    "n_samples = 1000\n",
    "black_envelope = np.full(n_samples, 0.5)\n",
    "white_envelope = np.full(n_samples, 2)\n",
    "unit = np.concatenate((black_envelope, white_envelope))\n",
    "random.shuffle(unit)\n",
    "print(unit.mean() * salary)"
   ]
  },
  {
   "cell_type": "code",
   "execution_count": 46,
   "metadata": {},
   "outputs": [
    {
     "name": "stdout",
     "output_type": "stream",
     "text": [
      "1.25\n"
     ]
    }
   ],
   "source": [
    "import numpy as np\n",
    "import random\n",
    "n_samples = 1000\n",
    "a = np.full(n_samples, 0.5)\n",
    "b = np.full(n_samples, 2)\n",
    "c = np.concatenate((a, b)) # объеденили в массив\n",
    "random.shuffle(c) # перемешали значения \n",
    "print(c.mean()) # посчитали среднее значение"
   ]
  },
  {
   "cell_type": "code",
   "execution_count": 47,
   "metadata": {},
   "outputs": [
    {
     "data": {
      "text/plain": [
       "array([0.5, 0.5, 0.5, 0.5, 0.5, 0.5, 0.5, 0.5, 0.5, 0.5])"
      ]
     },
     "execution_count": 47,
     "metadata": {},
     "output_type": "execute_result"
    }
   ],
   "source": [
    "#массив создали. он состоит из 1000 элементов = 0.5 \n",
    "a[:10]"
   ]
  },
  {
   "cell_type": "code",
   "execution_count": 48,
   "metadata": {},
   "outputs": [
    {
     "data": {
      "text/plain": [
       "array([2, 2, 2, 2, 2, 2, 2, 2, 2, 2])"
      ]
     },
     "execution_count": 48,
     "metadata": {},
     "output_type": "execute_result"
    }
   ],
   "source": [
    "b[:10]"
   ]
  },
  {
   "cell_type": "code",
   "execution_count": 49,
   "metadata": {},
   "outputs": [
    {
     "data": {
      "text/plain": [
       "(array([0.5, 0.5, 0.5, 2. , 0.5, 2. , 0.5, 0.5, 0.5, 0.5]),\n",
       " array([0.5, 0.5, 0.5, 0.5, 2. , 0.5, 0.5, 0.5, 0.5, 2. ]))"
      ]
     },
     "execution_count": 49,
     "metadata": {},
     "output_type": "execute_result"
    }
   ],
   "source": [
    "# первые 10 элементов у матрицы (массива) будут, в конце 10 последние. Они перемешанны потому что shuffle использовали\n",
    "c[:10], c[-10:]"
   ]
  },
  {
   "cell_type": "markdown",
   "metadata": {},
   "source": [
    "### Изменение размерности"
   ]
  },
  {
   "cell_type": "code",
   "execution_count": 50,
   "metadata": {},
   "outputs": [
    {
     "data": {
      "text/plain": [
       "array([0, 1, 2, 3, 4, 5, 6, 7, 8, 9])"
      ]
     },
     "execution_count": 50,
     "metadata": {},
     "output_type": "execute_result"
    }
   ],
   "source": [
    "x = np.arange( 0, 10 )\n",
    "# это вектор \n",
    "x"
   ]
  },
  {
   "cell_type": "code",
   "execution_count": 51,
   "metadata": {},
   "outputs": [
    {
     "data": {
      "text/plain": [
       "(10,)"
      ]
     },
     "execution_count": 51,
     "metadata": {},
     "output_type": "execute_result"
    }
   ],
   "source": [
    "# 10 - количество строк. \n",
    "\n",
    "x.shape\n",
    "# здесь мы видим что 10 = строк, а столбцов 0 т е один"
   ]
  },
  {
   "cell_type": "code",
   "execution_count": 53,
   "metadata": {},
   "outputs": [
    {
     "data": {
      "text/plain": [
       "(3, 2)"
      ]
     },
     "execution_count": 53,
     "metadata": {},
     "output_type": "execute_result"
    }
   ],
   "source": [
    "#это матрица - есть дополнительно []\n",
    "\n",
    "np.array(\n",
    "    [\n",
    "        [1, 2],\n",
    "        [3, 4],\n",
    "        [5, 6]\n",
    "    ]\n",
    ").shape\n",
    "# здесь видим 3 строки и 2 столбца - это метод shape"
   ]
  },
  {
   "cell_type": "code",
   "execution_count": 50,
   "metadata": {},
   "outputs": [
    {
     "data": {
      "text/plain": [
       "array([0, 1, 2, 3, 4, 5, 6, 7, 8, 9])"
      ]
     },
     "execution_count": 50,
     "metadata": {},
     "output_type": "execute_result"
    }
   ],
   "source": [
    "x = np.arange( 0, 10 )\n",
    "# это вектор \n",
    "x"
   ]
  },
  {
   "cell_type": "code",
   "execution_count": 55,
   "metadata": {},
   "outputs": [
    {
     "data": {
      "text/plain": [
       "array([[0, 1],\n",
       "       [2, 3],\n",
       "       [4, 5],\n",
       "       [6, 7],\n",
       "       [8, 9]])"
      ]
     },
     "execution_count": 55,
     "metadata": {},
     "output_type": "execute_result"
    }
   ],
   "source": [
    "# первый аргумент - количество строк\n",
    "# второй - столбцов\n",
    "\n",
    "x.reshape( 5, 2 )\n",
    "# с помощью этого метода мы из вектора сделали матрицу с 5-тью строками и 2 столбцами."
   ]
  },
  {
   "cell_type": "code",
   "execution_count": 57,
   "metadata": {},
   "outputs": [
    {
     "data": {
      "text/plain": [
       "array([[0, 1, 2, 3, 4],\n",
       "       [5, 6, 7, 8, 9]])"
      ]
     },
     "execution_count": 57,
     "metadata": {},
     "output_type": "execute_result"
    }
   ],
   "source": [
    "x.reshape( 2, 5 )"
   ]
  },
  {
   "cell_type": "code",
   "execution_count": 56,
   "metadata": {},
   "outputs": [
    {
     "ename": "ValueError",
     "evalue": "cannot reshape array of size 10 into shape (3,3)",
     "output_type": "error",
     "traceback": [
      "\u001b[0;31m---------------------------------------------------------------------------\u001b[0m",
      "\u001b[0;31mValueError\u001b[0m                                Traceback (most recent call last)",
      "\u001b[0;32m<ipython-input-56-6216b950ff5f>\u001b[0m in \u001b[0;36m<module>\u001b[0;34m\u001b[0m\n\u001b[0;32m----> 1\u001b[0;31m \u001b[0mx\u001b[0m\u001b[0;34m.\u001b[0m\u001b[0mreshape\u001b[0m\u001b[0;34m(\u001b[0m \u001b[0;36m3\u001b[0m\u001b[0;34m,\u001b[0m \u001b[0;36m3\u001b[0m \u001b[0;34m)\u001b[0m\u001b[0;34m\u001b[0m\u001b[0;34m\u001b[0m\u001b[0m\n\u001b[0m",
      "\u001b[0;31mValueError\u001b[0m: cannot reshape array of size 10 into shape (3,3)"
     ]
    }
   ],
   "source": [
    "x.reshape( 3, 3 )\n",
    "#  10 - элементов этот метод не смог перевести в матрицу 3х3"
   ]
  },
  {
   "cell_type": "code",
   "execution_count": 58,
   "metadata": {},
   "outputs": [
    {
     "data": {
      "text/plain": [
       "array([[1, 3, 5],\n",
       "       [2, 4, 6]])"
      ]
     },
     "execution_count": 58,
     "metadata": {},
     "output_type": "execute_result"
    }
   ],
   "source": [
    "# транспонирование матриц . Т\n",
    "\n",
    "np.array(\n",
    "    [\n",
    "        [1, 2],\n",
    "        [3, 4],\n",
    "        [5, 6]\n",
    "    ]\n",
    ").T"
   ]
  },
  {
   "cell_type": "code",
   "execution_count": 59,
   "metadata": {},
   "outputs": [
    {
     "data": {
      "text/plain": [
       "[1, 2, 3, 4, 5, 6]"
      ]
     },
     "execution_count": 59,
     "metadata": {},
     "output_type": "execute_result"
    }
   ],
   "source": [
    "# склеивание набора списков\n",
    "[1, 2, 3] + [4, 5, 6]"
   ]
  },
  {
   "cell_type": "code",
   "execution_count": 60,
   "metadata": {},
   "outputs": [
    {
     "data": {
      "text/plain": [
       "array([1, 2, 3, 4, 5, 6])"
      ]
     },
     "execution_count": 60,
     "metadata": {},
     "output_type": "execute_result"
    }
   ],
   "source": [
    "# склеивание массива из списков\n",
    "\n",
    "x = np.array( [ [1, 2, 3], [4, 5, 6] ] ) # это матрица \n",
    "x.ravel() # склеивает "
   ]
  },
  {
   "cell_type": "code",
   "execution_count": 61,
   "metadata": {},
   "outputs": [
    {
     "data": {
      "text/plain": [
       "array([1, 2, 3, 4, 5, 6])"
      ]
     },
     "execution_count": 61,
     "metadata": {},
     "output_type": "execute_result"
    }
   ],
   "source": [
    "# можно и так\n",
    "\n",
    "x.reshape( 6 ) здесь мы получаем вектор из 6-ти элементов "
   ]
  },
  {
   "cell_type": "code",
   "execution_count": 76,
   "metadata": {},
   "outputs": [
    {
     "data": {
      "text/plain": [
       "(6,)"
      ]
     },
     "execution_count": 76,
     "metadata": {},
     "output_type": "execute_result"
    }
   ],
   "source": [
    "x.reshape(6).shape"
   ]
  },
  {
   "cell_type": "code",
   "execution_count": 62,
   "metadata": {},
   "outputs": [
    {
     "data": {
      "text/plain": [
       "array([[1, 2, 3, 4, 5, 6]])"
      ]
     },
     "execution_count": 62,
     "metadata": {},
     "output_type": "execute_result"
    }
   ],
   "source": [
    "# результат разный, если добавить 1 в качестве количества строк\n",
    "\n",
    "x.reshape( 1, 6 ) а здесь мы получили матрицу из 1 строк и 6 столбца"
   ]
  },
  {
   "cell_type": "code",
   "execution_count": 63,
   "metadata": {},
   "outputs": [
    {
     "data": {
      "text/plain": [
       "(1, 6)"
      ]
     },
     "execution_count": 63,
     "metadata": {},
     "output_type": "execute_result"
    }
   ],
   "source": [
    "x.reshape( 1, 6 ).shape  # можно посмотреть что есть что"
   ]
  },
  {
   "cell_type": "markdown",
   "metadata": {},
   "source": [
    "### Создание матриц"
   ]
  },
  {
   "cell_type": "code",
   "execution_count": 64,
   "metadata": {},
   "outputs": [
    {
     "data": {
      "text/plain": [
       "array([0., 0., 0., 0., 0., 0., 0., 0., 0., 0.])"
      ]
     },
     "execution_count": 64,
     "metadata": {},
     "output_type": "execute_result"
    }
   ],
   "source": [
    "# нулевой вектор заданной размерности\n",
    "\n",
    "np.zeros(10)"
   ]
  },
  {
   "cell_type": "code",
   "execution_count": 74,
   "metadata": {},
   "outputs": [
    {
     "data": {
      "text/plain": [
       "(10,)"
      ]
     },
     "execution_count": 74,
     "metadata": {},
     "output_type": "execute_result"
    }
   ],
   "source": [
    "np.zeros(10).shape"
   ]
  },
  {
   "cell_type": "code",
   "execution_count": 65,
   "metadata": {},
   "outputs": [
    {
     "data": {
      "text/plain": [
       "array([[1., 0., 0., 0., 0.],\n",
       "       [0., 1., 0., 0., 0.],\n",
       "       [0., 0., 1., 0., 0.],\n",
       "       [0., 0., 0., 1., 0.],\n",
       "       [0., 0., 0., 0., 1.]])"
      ]
     },
     "execution_count": 65,
     "metadata": {},
     "output_type": "execute_result"
    }
   ],
   "source": [
    "# единичная матрица\n",
    "\n",
    "np.eye(5)"
   ]
  },
  {
   "cell_type": "code",
   "execution_count": 77,
   "metadata": {},
   "outputs": [
    {
     "data": {
      "text/plain": [
       "(5, 5)"
      ]
     },
     "execution_count": 77,
     "metadata": {},
     "output_type": "execute_result"
    }
   ],
   "source": [
    "np.eye(5).shape"
   ]
  },
  {
   "cell_type": "code",
   "execution_count": 66,
   "metadata": {},
   "outputs": [
    {
     "data": {
      "text/plain": [
       "array([[0, 0, 0, 0, 0],\n",
       "       [0, 1, 0, 0, 0],\n",
       "       [0, 0, 2, 0, 0],\n",
       "       [0, 0, 0, 3, 0],\n",
       "       [0, 0, 0, 0, 4]])"
      ]
     },
     "execution_count": 66,
     "metadata": {},
     "output_type": "execute_result"
    }
   ],
   "source": [
    "# более общий случай диагональной матрицы\n",
    "\n",
    "np.diag(np.arange(5), k=0)"
   ]
  },
  {
   "cell_type": "code",
   "execution_count": 71,
   "metadata": {},
   "outputs": [
    {
     "data": {
      "text/plain": [
       "array([[ 2,  0,  0,  0],\n",
       "       [ 0, 17,  0,  0],\n",
       "       [ 0,  0, 32,  0],\n",
       "       [ 0,  0,  0, 47]])"
      ]
     },
     "execution_count": 71,
     "metadata": {},
     "output_type": "execute_result"
    }
   ],
   "source": [
    "# более общий случай диагональной матрицы\n",
    "\n",
    "np.diag(np.arange(2, 50, 15), k=0)\n",
    "\n",
    "# создали матрицу по диаганале от 2 до 50 с шагом 15"
   ]
  },
  {
   "cell_type": "code",
   "execution_count": 78,
   "metadata": {},
   "outputs": [
    {
     "data": {
      "text/plain": [
       "(4, 4)"
      ]
     },
     "execution_count": 78,
     "metadata": {},
     "output_type": "execute_result"
    }
   ],
   "source": [
    "np.diag(np.arange(2, 50, 15), k=0).shape"
   ]
  },
  {
   "cell_type": "code",
   "execution_count": 68,
   "metadata": {},
   "outputs": [
    {
     "data": {
      "text/plain": [
       "array([[0, 0, 0, 0, 0, 0, 0],\n",
       "       [0, 0, 0, 0, 0, 0, 0],\n",
       "       [0, 0, 0, 0, 0, 0, 0],\n",
       "       [0, 1, 0, 0, 0, 0, 0],\n",
       "       [0, 0, 2, 0, 0, 0, 0],\n",
       "       [0, 0, 0, 3, 0, 0, 0],\n",
       "       [0, 0, 0, 0, 4, 0, 0]])"
      ]
     },
     "execution_count": 68,
     "metadata": {},
     "output_type": "execute_result"
    }
   ],
   "source": [
    "np.diag(np.arange(5), k=-2) # - 2 смещение диаганалей "
   ]
  },
  {
   "cell_type": "code",
   "execution_count": 69,
   "metadata": {},
   "outputs": [
    {
     "data": {
      "text/plain": [
       "array([0.67569248, 0.46216691, 0.72542423, 0.41207097, 0.17205251,\n",
       "       0.88319106, 0.50361212, 0.06188652, 0.39004818, 0.8804931 ])"
      ]
     },
     "execution_count": 69,
     "metadata": {},
     "output_type": "execute_result"
    }
   ],
   "source": [
    "# матрица со случайными значениями\n",
    "\n",
    "np.random.random(10)"
   ]
  },
  {
   "cell_type": "code",
   "execution_count": 79,
   "metadata": {},
   "outputs": [
    {
     "data": {
      "text/plain": [
       "(10,)"
      ]
     },
     "execution_count": 79,
     "metadata": {},
     "output_type": "execute_result"
    }
   ],
   "source": [
    "np.random.random(10).shape"
   ]
  },
  {
   "cell_type": "code",
   "execution_count": 70,
   "metadata": {},
   "outputs": [],
   "source": [
    "# более универсальный вариант создания матриц\n",
    "\n",
    "?np.linspace"
   ]
  },
  {
   "cell_type": "code",
   "execution_count": 72,
   "metadata": {
    "scrolled": true
   },
   "outputs": [
    {
     "data": {
      "text/plain": [
       "array([ 5.        ,  5.68965517,  6.37931034,  7.06896552,  7.75862069,\n",
       "        8.44827586,  9.13793103,  9.82758621, 10.51724138, 11.20689655,\n",
       "       11.89655172, 12.5862069 , 13.27586207, 13.96551724, 14.65517241,\n",
       "       15.34482759, 16.03448276, 16.72413793, 17.4137931 , 18.10344828,\n",
       "       18.79310345, 19.48275862, 20.17241379, 20.86206897, 21.55172414,\n",
       "       22.24137931, 22.93103448, 23.62068966, 24.31034483, 25.        ])"
      ]
     },
     "execution_count": 72,
     "metadata": {},
     "output_type": "execute_result"
    }
   ],
   "source": [
    "np.linspace(5, 25, 30)\n",
    "\n",
    "# задано начало 5 и конец 25 ,\n",
    "# и хотим 30 количеств элементов ! круто - он сам их разделил и равномерно\n",
    "# заполнил каждое число увеличивал на 0,68965517\n",
    "\n",
    "# это не матрица!!! Это вектор в одну строчку"
   ]
  },
  {
   "cell_type": "code",
   "execution_count": 73,
   "metadata": {},
   "outputs": [
    {
     "data": {
      "text/plain": [
       "(30,)"
      ]
     },
     "execution_count": 73,
     "metadata": {},
     "output_type": "execute_result"
    }
   ],
   "source": [
    "np.linspace(5, 25, 30).shape"
   ]
  },
  {
   "cell_type": "markdown",
   "metadata": {},
   "source": [
    "### Более сложные распределения\n",
    "\n",
    "https://docs.scipy.org/doc/scipy-0.14.0/reference/generated/scipy.signal.gaussian.html"
   ]
  },
  {
   "cell_type": "markdown",
   "metadata": {},
   "source": [
    "### Упражнение\n",
    "Дана единичная матрица np.eye(10). Посчитайте сумму ее диагональных элементов."
   ]
  },
  {
   "cell_type": "code",
   "execution_count": null,
   "metadata": {},
   "outputs": [],
   "source": [
    "# один из вариантов подсчета суммы\n",
    "# он не является самым простым или самым сложным\n",
    "total_sum = 0\n",
    "\n",
    "for ... in ...:\n",
    "    total_sum += .."
   ]
  },
  {
   "cell_type": "code",
   "execution_count": 81,
   "metadata": {},
   "outputs": [
    {
     "data": {
      "text/plain": [
       "10.0"
      ]
     },
     "execution_count": 81,
     "metadata": {},
     "output_type": "execute_result"
    }
   ],
   "source": [
    "np.trace(np.eye(10))"
   ]
  },
  {
   "cell_type": "code",
   "execution_count": 84,
   "metadata": {},
   "outputs": [
    {
     "name": "stdout",
     "output_type": "stream",
     "text": [
      "10.0\n"
     ]
    }
   ],
   "source": [
    "a = np.eye(10)\n",
    "print(sum(a.diagonal()))"
   ]
  },
  {
   "cell_type": "code",
   "execution_count": 86,
   "metadata": {},
   "outputs": [
    {
     "data": {
      "text/plain": [
       "10.0"
      ]
     },
     "execution_count": 86,
     "metadata": {},
     "output_type": "execute_result"
    }
   ],
   "source": [
    "total_sum = 0\n",
    "for i in np.diag(np.eye(10), k =0):\n",
    "    total_sum += i\n",
    "total_sum"
   ]
  },
  {
   "cell_type": "code",
   "execution_count": 87,
   "metadata": {},
   "outputs": [
    {
     "name": "stdout",
     "output_type": "stream",
     "text": [
      "10.0\n"
     ]
    }
   ],
   "source": [
    "sum_x = 0\n",
    "y = 0\n",
    "for x in np.eye(10):\n",
    "    sum_x = sum_x + x[y]\n",
    "    y += 1\n",
    "print(sum_x)"
   ]
  },
  {
   "cell_type": "code",
   "execution_count": 90,
   "metadata": {},
   "outputs": [
    {
     "data": {
      "text/plain": [
       "10.0"
      ]
     },
     "execution_count": 90,
     "metadata": {},
     "output_type": "execute_result"
    }
   ],
   "source": [
    "total_sum = 0\n",
    "eye = np.eye(10)\n",
    "for i in range(len(eye)):\n",
    "    total_sum += list(eye)[i][i]\n",
    "total_sum"
   ]
  },
  {
   "cell_type": "markdown",
   "metadata": {},
   "source": [
    "# Скалярное произведение векторов"
   ]
  },
  {
   "cell_type": "markdown",
   "metadata": {},
   "source": [
    "\\begin{equation*}\n",
    "\\LARGE\n",
    "\\vec{a} \\dot{} \\vec{b} = |\\vec{a}| \\space |\\vec{b}| \\space cos(\\vec{a}, \\vec{b})\n",
    "\\end{equation*}"
   ]
  },
  {
   "cell_type": "markdown",
   "metadata": {},
   "source": [
    "Пусть \n",
    "\\begin{equation*}\n",
    "\\LARGE\n",
    "\\vec{a} = (a_1, a_2, a_3) \\\\\n",
    "\\LARGE\n",
    "\\vec{b} = (b_1, b_2, b_3)\n",
    "\\end{equation*}"
   ]
  },
  {
   "cell_type": "markdown",
   "metadata": {},
   "source": [
    "Тогда скалярное произведение векторов равно\n",
    "\\begin{equation*}\n",
    "\\LARGE\n",
    "\\vec{a} \\dot{} \\vec{b} = a_1 b_1 + a_2 b_2 + a_3 b_3\n",
    "\\end{equation*}"
   ]
  },
  {
   "cell_type": "code",
   "execution_count": null,
   "metadata": {},
   "outputs": [],
   "source": [
    "a = np.array( [4, 3] )\n",
    "b = np.array( [2, 1] )"
   ]
  },
  {
   "cell_type": "code",
   "execution_count": null,
   "metadata": {},
   "outputs": [],
   "source": [
    "4 * 2 + 3 * 1"
   ]
  },
  {
   "cell_type": "markdown",
   "metadata": {},
   "source": [
    "Пример расчета скалярного произведения векторов"
   ]
  },
  {
   "cell_type": "code",
   "execution_count": null,
   "metadata": {},
   "outputs": [],
   "source": [
    "np.dot( a, b )"
   ]
  },
  {
   "cell_type": "markdown",
   "metadata": {},
   "source": [
    "Можно посчитать и таким образом"
   ]
  },
  {
   "cell_type": "code",
   "execution_count": null,
   "metadata": {},
   "outputs": [],
   "source": [
    "# первый шаг\n",
    "\n",
    "for pair in zip( a, b ):\n",
    "    print( pair )"
   ]
  },
  {
   "cell_type": "code",
   "execution_count": null,
   "metadata": {},
   "outputs": [],
   "source": [
    "# второй шаг\n",
    "\n",
    "[ pair[0] * pair[1] for pair in zip( a, b ) ]"
   ]
  },
  {
   "cell_type": "code",
   "execution_count": null,
   "metadata": {},
   "outputs": [],
   "source": [
    "# итоговый результат\n",
    "\n",
    "sum( [ pair[0] * pair[1] for pair in zip( a, b ) ] )"
   ]
  },
  {
   "cell_type": "markdown",
   "metadata": {},
   "source": [
    "# Косинусное расстояние между векторами"
   ]
  },
  {
   "cell_type": "markdown",
   "metadata": {},
   "source": [
    "\\begin{equation*}\n",
    "\\LARGE\n",
    "cos(\\vec{a}, \\vec{b}) = \\frac{\\vec{a} \\dot{} \\vec{b}}{|\\vec{a}| \\space |\\vec{b}|}\n",
    "\\end{equation*}"
   ]
  },
  {
   "cell_type": "code",
   "execution_count": null,
   "metadata": {},
   "outputs": [],
   "source": [
    "import matplotlib.pyplot as plt"
   ]
  },
  {
   "cell_type": "code",
   "execution_count": null,
   "metadata": {},
   "outputs": [],
   "source": [
    "ax = plt.axes()\n",
    "\n",
    "plt.xlim( [0, 5] )\n",
    "plt.ylim( [0, 4] )\n",
    "\n",
    "ax.arrow( 0, 0, a[0], a[1], head_width=0.1, head_length=0.2, fc='k', ec='k' )\n",
    "ax.arrow( 0, 0, b[0], b[1], head_width=0.1, head_length=0.2, fc='k', ec='k' )\n",
    "\n",
    "plt.show()"
   ]
  },
  {
   "cell_type": "code",
   "execution_count": null,
   "metadata": {},
   "outputs": [],
   "source": [
    "def cosine( a, b ):\n",
    "    \"\"\"\n",
    "    Подсчет косинуса угла между векторами a, b по их координатам\n",
    "    \"\"\"\n",
    "    \n",
    "    # длины векторов\n",
    "    aLength = np.linalg.norm( a )\n",
    "    bLength = np.linalg.norm( b )\n",
    "    \n",
    "    return np.dot( a, b ) / ( aLength * bLength )"
   ]
  },
  {
   "cell_type": "code",
   "execution_count": null,
   "metadata": {},
   "outputs": [],
   "source": [
    "# длины векторов можно было посчитать и так\n",
    "\n",
    "aLength = np.sqrt( (a*a).sum() )\n",
    "bLength = np.sqrt( (b*b).sum() )"
   ]
  },
  {
   "cell_type": "code",
   "execution_count": null,
   "metadata": {
    "scrolled": true
   },
   "outputs": [],
   "source": [
    "cosine( a, b )"
   ]
  },
  {
   "cell_type": "code",
   "execution_count": null,
   "metadata": {},
   "outputs": [],
   "source": [
    "# угол между векторами в радианах\n",
    "\n",
    "np.arccos( cosine( a, b ) )"
   ]
  },
  {
   "cell_type": "code",
   "execution_count": null,
   "metadata": {},
   "outputs": [],
   "source": [
    "# угол между векторами в градусах\n",
    "\n",
    "np.arccos( cosine( a, b ) ) * 360 / 2 / np.pi"
   ]
  },
  {
   "cell_type": "markdown",
   "metadata": {},
   "source": [
    "## Упражнение"
   ]
  },
  {
   "cell_type": "markdown",
   "metadata": {},
   "source": [
    "Имеется матрица покупок в интернет-магазине. Столбец А - ID пользователя. Остальные столбцы - количество покупок категорий товаров этим пользователем:"
   ]
  },
  {
   "cell_type": "code",
   "execution_count": null,
   "metadata": {
    "scrolled": true
   },
   "outputs": [],
   "source": [
    "from IPython.display import Image\n",
    "Image(\"user_matrix.JPG\")"
   ]
  },
  {
   "cell_type": "markdown",
   "metadata": {},
   "source": [
    "Матрица в виде numpy array"
   ]
  },
  {
   "cell_type": "code",
   "execution_count": null,
   "metadata": {},
   "outputs": [],
   "source": [
    "users_stats = np.array(\n",
    "    [\n",
    "        [2, 1, 0, 0, 0, 0],\n",
    "        [1, 1, 2, 1, 0, 0],\n",
    "        [2, 0, 1, 0, 0, 0],\n",
    "        [1, 1, 2, 1, 0, 1],\n",
    "        [0, 0, 1, 2, 0, 0],\n",
    "        [0, 0, 0, 0, 0, 5],\n",
    "        [1, 0, 0, 0, 0, 0],\n",
    "        [0, 1, 1, 0, 0, 0],\n",
    "        [0, 0, 0, 1, 1, 3],\n",
    "        [1, 0, 0, 2, 1, 4]\n",
    "    ], \n",
    "    np.int32\n",
    ")"
   ]
  },
  {
   "cell_type": "markdown",
   "metadata": {},
   "source": [
    "На сайт заходит очередной посетитель, о покупках которого известно следующее:"
   ]
  },
  {
   "cell_type": "code",
   "execution_count": null,
   "metadata": {},
   "outputs": [],
   "source": [
    "next_user_stats = np.array([0, 1, 2, 0, 0, 0])"
   ]
  },
  {
   "cell_type": "markdown",
   "metadata": {},
   "source": [
    "Найдите самого похожего пользователя. Т. е. посчитайте косинусное расстояние между этим пользователем и всеми пользователями из массива user_stats"
   ]
  },
  {
   "cell_type": "code",
   "execution_count": null,
   "metadata": {},
   "outputs": [],
   "source": []
  },
  {
   "cell_type": "code",
   "execution_count": null,
   "metadata": {},
   "outputs": [],
   "source": []
  },
  {
   "cell_type": "markdown",
   "metadata": {},
   "source": [
    "# Перемножение матриц"
   ]
  },
  {
   "cell_type": "markdown",
   "metadata": {},
   "source": [
    "**Определение**\n",
    "\n",
    "Пусть даны две матрицы a и b размером l x m и m x n соответственно. l - количество строк, n - количество столбцов.\n",
    "\n",
    "\\begin{equation*}\n",
    "\\LARGE\n",
    "a = \n",
    "\\begin{bmatrix}\n",
    "    a_{11} & a_{12} \\dots a_{1m} \\\\\n",
    "    a_{21} & a_{22} \\dots a_{2m} \\\\\n",
    "    \\vdots & \\vdots \\dots \\vdots \\\\\n",
    "    a_{l1} & a_{l2} \\dots a_{lm}\n",
    "\\end{bmatrix}\n",
    "\\end{equation*}\n",
    "\n",
    "<br>\n",
    "\n",
    "\\begin{equation*}\n",
    "\\LARGE\n",
    "b = \n",
    "\\begin{bmatrix}\n",
    "    b_{11} & b_{12} \\dots b_{1n} \\\\\n",
    "    b_{21} & b_{22} \\dots b_{2n} \\\\\n",
    "    \\vdots & \\vdots \\dots \\vdots \\\\\n",
    "    b_{m1} & b_{m2} \\dots b_{mn}\n",
    "\\end{bmatrix}\n",
    "\\end{equation*}"
   ]
  },
  {
   "cell_type": "markdown",
   "metadata": {},
   "source": [
    "Тогда произведением матриц a и b будет матрица c размерностью l x n:\n",
    "\n",
    "\\begin{equation*}\n",
    "\\LARGE\n",
    "c = \n",
    "\\begin{bmatrix}\n",
    "    c_{11} & c_{12} \\dots c_{1n} \\\\\n",
    "    c_{21} & c_{22} \\dots c_{2n} \\\\\n",
    "    \\vdots & \\vdots \\dots \\vdots \\\\\n",
    "    c_{l1} & c_{l2} \\dots c_{ln}\n",
    "\\end{bmatrix}\n",
    "\\end{equation*}\n",
    "\n",
    "<br>\n",
    "\n",
    "\\begin{equation*}\n",
    "\\LARGE\n",
    "c_{ij} = \\sum_{k=1}^m a_{ik} b_{kj}\n",
    "\\end{equation*}"
   ]
  },
  {
   "cell_type": "markdown",
   "metadata": {},
   "source": [
    "<img src = 'https://wikimedia.org/api/rest_v1/media/math/render/svg/1f96c71f0a99eac3ee872e7baf22e84324d7b4c9' style=\"width: 80%\"></img>"
   ]
  },
  {
   "cell_type": "code",
   "execution_count": null,
   "metadata": {},
   "outputs": [],
   "source": [
    "a = np.array( \n",
    "    [\n",
    "        [1, 2],\n",
    "        [3, 4]\n",
    "    ] \n",
    ")"
   ]
  },
  {
   "cell_type": "code",
   "execution_count": null,
   "metadata": {},
   "outputs": [],
   "source": [
    "b = np.array( \n",
    "    [\n",
    "        [5, 6],\n",
    "        [7, 8]\n",
    "    ] \n",
    ")"
   ]
  },
  {
   "cell_type": "code",
   "execution_count": null,
   "metadata": {},
   "outputs": [],
   "source": [
    "c11 = 1 * 5 + 2 * 7\n",
    "c11"
   ]
  },
  {
   "cell_type": "code",
   "execution_count": null,
   "metadata": {},
   "outputs": [],
   "source": [
    "c12 = 1 * 6 + 2 * 8\n",
    "c12"
   ]
  },
  {
   "cell_type": "code",
   "execution_count": null,
   "metadata": {},
   "outputs": [],
   "source": [
    "c = np.dot( a, b )\n",
    "c"
   ]
  },
  {
   "cell_type": "markdown",
   "metadata": {},
   "source": [
    "В numpy есть специальный тип matrix, который отличается от ndarray"
   ]
  },
  {
   "cell_type": "code",
   "execution_count": null,
   "metadata": {},
   "outputs": [],
   "source": [
    "aMatrix = np.matrix( [ [1, 2], [3, 4] ] )\n",
    "bMatrix = np.matrix( [ [5, 6], [7, 8] ] )"
   ]
  },
  {
   "cell_type": "code",
   "execution_count": null,
   "metadata": {},
   "outputs": [],
   "source": [
    "type(aMatrix)"
   ]
  },
  {
   "cell_type": "code",
   "execution_count": null,
   "metadata": {},
   "outputs": [],
   "source": [
    "aMatrix * bMatrix"
   ]
  },
  {
   "cell_type": "code",
   "execution_count": null,
   "metadata": {},
   "outputs": [],
   "source": [
    "a * b"
   ]
  },
  {
   "cell_type": "code",
   "execution_count": null,
   "metadata": {},
   "outputs": [],
   "source": [
    "type( aMatrix ), type( a )"
   ]
  },
  {
   "cell_type": "code",
   "execution_count": null,
   "metadata": {},
   "outputs": [],
   "source": [
    "np.mat( a ) * np.mat( b )"
   ]
  },
  {
   "cell_type": "markdown",
   "metadata": {},
   "source": [
    "# Линейные уравнения"
   ]
  },
  {
   "cell_type": "markdown",
   "metadata": {},
   "source": [
    "Дана система линейных уравнений\n",
    "\n",
    "\\begin{equation*}\n",
    "\\LARGE\n",
    "x + 3*y = 9 \\\\\n",
    "\\LARGE\n",
    "2*x - 4*y = 8\n",
    "\\end{equation*}"
   ]
  },
  {
   "cell_type": "code",
   "execution_count": null,
   "metadata": {},
   "outputs": [],
   "source": [
    "# коэффициенты при переменных в левой части уравнения\n",
    "\n",
    "a = np.array( [ [1, 3], [2, -4] ] )"
   ]
  },
  {
   "cell_type": "code",
   "execution_count": null,
   "metadata": {},
   "outputs": [],
   "source": [
    "# значения в правой части уравнения\n",
    "\n",
    "b = np.array( [9, 8] )"
   ]
  },
  {
   "cell_type": "code",
   "execution_count": null,
   "metadata": {},
   "outputs": [],
   "source": [
    "# решение\n",
    "\n",
    "from numpy import linalg"
   ]
  },
  {
   "cell_type": "code",
   "execution_count": null,
   "metadata": {},
   "outputs": [],
   "source": [
    "linalg.solve(a, b)"
   ]
  },
  {
   "cell_type": "code",
   "execution_count": null,
   "metadata": {},
   "outputs": [],
   "source": [
    "# проверка верности\n",
    "\n",
    "np.allclose( np.dot(a, linalg.solve(a, b)), b )"
   ]
  }
 ],
 "metadata": {
  "kernelspec": {
   "display_name": "Python 3",
   "language": "python",
   "name": "python3"
  },
  "language_info": {
   "codemirror_mode": {
    "name": "ipython",
    "version": 3
   },
   "file_extension": ".py",
   "mimetype": "text/x-python",
   "name": "python",
   "nbconvert_exporter": "python",
   "pygments_lexer": "ipython3",
   "version": "3.7.4"
  }
 },
 "nbformat": 4,
 "nbformat_minor": 2
}
