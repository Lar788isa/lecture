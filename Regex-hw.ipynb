{
 "cells": [
  {
   "cell_type": "markdown",
   "metadata": {},
   "source": [
    "# Домашнее задание к лекции \"Регулярные выражения\"\n",
    "Для зачета необходимо выполнить 4 задания.  \n",
    "Для зачета с отличием – все."
   ]
  },
  {
   "cell_type": "markdown",
   "metadata": {},
   "source": [
    "## Задание 1"
   ]
  },
  {
   "cell_type": "markdown",
   "metadata": {},
   "source": [
    "Напишите функцию, которая принимает на вход строку и проверяет является ли она валидным транспортным номером. Если да, то функция должна возвращать отдельно номер и регион."
   ]
  },
  {
   "cell_type": "code",
   "execution_count": 4,
   "metadata": {},
   "outputs": [],
   "source": [
    "import re"
   ]
  },
  {
   "cell_type": "code",
   "execution_count": 21,
   "metadata": {},
   "outputs": [],
   "source": [
    "number_car = 'М065МК78'\n",
    "regex_number = '([А,В,Е,К,М,Н,О,Р,С,Т,У,Х]{1})(\\d{3})([А,В,Е,К,М,Н,О,Р,С,Т,У,Х]{2})(\\d{2,3})'"
   ]
  },
  {
   "cell_type": "code",
   "execution_count": 22,
   "metadata": {},
   "outputs": [
    {
     "name": "stdout",
     "output_type": "stream",
     "text": [
      "[('М', '065', 'МК', '78')]\n"
     ]
    }
   ],
   "source": [
    "number_result = re.findall(regex_number,number_car)\n",
    "print(number_result)"
   ]
  },
  {
   "cell_type": "code",
   "execution_count": 23,
   "metadata": {},
   "outputs": [
    {
     "name": "stdout",
     "output_type": "stream",
     "text": [
      "065 78\n"
     ]
    }
   ],
   "source": [
    "print(f\"{number_result[0][1]} {number_result[0][3]}\")"
   ]
  },
  {
   "cell_type": "code",
   "execution_count": 24,
   "metadata": {},
   "outputs": [
    {
     "data": {
      "text/plain": [
       "'065  78'"
      ]
     },
     "execution_count": 24,
     "metadata": {},
     "output_type": "execute_result"
    }
   ],
   "source": [
    "re.sub(r'(\\w)(\\d\\d\\d)(\\w{2})(\\d{2,3})', r'\\2  \\4',number_car)"
   ]
  },
  {
   "cell_type": "code",
   "execution_count": 34,
   "metadata": {},
   "outputs": [],
   "source": [
    "def numb_car(number):\n",
    "    number = input('Введите данные: ')\n",
    "    if re.findall(regex_number,number):\n",
    "        print(re.sub(r'(\\w)(\\d\\d\\d)(\\w{2})(\\d{2,3})', r'\\2  \\4',number))\n",
    "    else:\n",
    "        print('Номер не верный')"
   ]
  },
  {
   "cell_type": "code",
   "execution_count": 36,
   "metadata": {},
   "outputs": [
    {
     "name": "stdout",
     "output_type": "stream",
     "text": [
      "Введите данные: А098МК54\n",
      "098  54\n"
     ]
    }
   ],
   "source": [
    "numb_car('number')"
   ]
  },
  {
   "cell_type": "code",
   "execution_count": 37,
   "metadata": {},
   "outputs": [
    {
     "name": "stdout",
     "output_type": "stream",
     "text": [
      "Введите данные: Ф098МК54\n",
      "Номер не верный\n"
     ]
    }
   ],
   "source": [
    "numb_car('number')"
   ]
  },
  {
   "cell_type": "code",
   "execution_count": 38,
   "metadata": {},
   "outputs": [
    {
     "name": "stdout",
     "output_type": "stream",
     "text": [
      "Введите данные: М0987К54\n",
      "Номер не верный\n"
     ]
    }
   ],
   "source": [
    "numb_car('number')"
   ]
  },
  {
   "cell_type": "markdown",
   "metadata": {},
   "source": [
    "## Задание 2"
   ]
  },
  {
   "cell_type": "code",
   "execution_count": 27,
   "metadata": {},
   "outputs": [],
   "source": [
    "def get_address(address):\n",
    "    '''\n",
    "    проверка email по шаблону    \n",
    "    '''\n",
    "    pattern = compile(r'(^|\\s)[-a-z0-9_.]+@([-a-z0-9]+\\.)+[a-z]{2,6}(\\s|$)')\n",
    "    address = input('inter you email address:')\n",
    "    is_valid = pattern.match(address)\n",
    "    if is_valid:\n",
    "        print('правильный email:', is_valid.group())\n",
    "        # объект is_valid содержит 3 метода\n",
    "        print('методы: start:', is_valid.start(), 'end:',\\\n",
    "        is_valid.end(), 'group:', is_valid.group())\n",
    "    else:\n",
    "        print('неверный email! введите email...\\n')"
   ]
  },
  {
   "cell_type": "code",
   "execution_count": 28,
   "metadata": {},
   "outputs": [
    {
     "ename": "TypeError",
     "evalue": "compile() missing required argument 'filename' (pos 2)",
     "output_type": "error",
     "traceback": [
      "\u001b[1;31m---------------------------------------------------------------------------\u001b[0m",
      "\u001b[1;31mTypeError\u001b[0m                                 Traceback (most recent call last)",
      "\u001b[1;32m<ipython-input-28-47816e285c09>\u001b[0m in \u001b[0;36m<module>\u001b[1;34m\u001b[0m\n\u001b[1;32m----> 1\u001b[1;33m \u001b[0mget_address\u001b[0m\u001b[1;33m(\u001b[0m\u001b[1;34m'address'\u001b[0m\u001b[1;33m)\u001b[0m\u001b[1;33m\u001b[0m\u001b[1;33m\u001b[0m\u001b[0m\n\u001b[0m",
      "\u001b[1;32m<ipython-input-27-78548468b721>\u001b[0m in \u001b[0;36mget_address\u001b[1;34m(address)\u001b[0m\n\u001b[0;32m      3\u001b[0m     \u001b[0mпроверка\u001b[0m \u001b[0memail\u001b[0m \u001b[0mпо\u001b[0m \u001b[0mшаблону\u001b[0m\u001b[1;33m\u001b[0m\u001b[1;33m\u001b[0m\u001b[0m\n\u001b[0;32m      4\u001b[0m     '''\n\u001b[1;32m----> 5\u001b[1;33m     \u001b[0mpattern\u001b[0m \u001b[1;33m=\u001b[0m \u001b[0mcompile\u001b[0m\u001b[1;33m(\u001b[0m\u001b[1;34mr'(^|\\s)[-a-z0-9_.]+@([-a-z0-9]+\\.)+[a-z]{2,6}(\\s|$)'\u001b[0m\u001b[1;33m)\u001b[0m\u001b[1;33m\u001b[0m\u001b[1;33m\u001b[0m\u001b[0m\n\u001b[0m\u001b[0;32m      6\u001b[0m     \u001b[0maddress\u001b[0m \u001b[1;33m=\u001b[0m \u001b[0minput\u001b[0m\u001b[1;33m(\u001b[0m\u001b[1;34m'inter you email address:'\u001b[0m\u001b[1;33m)\u001b[0m\u001b[1;33m\u001b[0m\u001b[1;33m\u001b[0m\u001b[0m\n\u001b[0;32m      7\u001b[0m     \u001b[0mis_valid\u001b[0m \u001b[1;33m=\u001b[0m \u001b[0mpattern\u001b[0m\u001b[1;33m.\u001b[0m\u001b[0mmatch\u001b[0m\u001b[1;33m(\u001b[0m\u001b[0maddress\u001b[0m\u001b[1;33m)\u001b[0m\u001b[1;33m\u001b[0m\u001b[1;33m\u001b[0m\u001b[0m\n",
      "\u001b[1;31mTypeError\u001b[0m: compile() missing required argument 'filename' (pos 2)"
     ]
    }
   ],
   "source": [
    "get_address('address')"
   ]
  },
  {
   "cell_type": "markdown",
   "metadata": {},
   "source": [
    "compile - метод для создания объект шаблона\n",
    "match - метод ищет совпадение по заданному шаблону. Поиск ведётся с начала строки\n",
    "search - возвращает одну найденную строку\n",
    "findall - метод возвращает список всех найденных совпадений\n",
    "sub - метод ищет шаблон в строке и заменяет его на указанную подстроку. Идеально подходит для замены неприличных слов в сообщений.\n",
    "group - метод выводит результат\n",
    "start - номер начальной позиции поиска\n",
    "end - номер последней позиции поиска\n",
    "Небольшая шпаргалка по символам для шаблона.\n",
    "\n",
    "Символ\tОписание\n",
    ".\tОдин любой символ, кроме новой строки \\n.\n",
    "?\t0 или 1 вхождение шаблона слева\n",
    "+\t1 и более вхождений шаблона слева\n",
    "*\t0 и более вхождений шаблона слева\n",
    "\\w\tЛюбая цифра или буква (\\W — все, кроме буквы или цифры)\n",
    "\\d\tЛюбая цифра [0-9] (\\D — все, кроме цифры)\n",
    "\\s\tЛюбой пробельный символ (\\S — любой непробельный символ)\n",
    "\\b\tГраница слова\n",
    "[..]\tОдин из символов в скобках ([^..] — любой символ, кроме тех, что в скобках)\n",
    "\\\tЭкранирование специальных символов (\\. означает точку или \\+ — знак «плюс»)\n",
    "^ и $\tНачало и конец строки соответственно\n",
    "{n,m}\tОт n до m вхождений ({,m} — от 0 до m)\n",
    "a|b\tСоответствует a или b\n",
    "()\tГруппирует выражение и возвращает найденный текст\n",
    "\\t, \\n, \\r\tСимвол табуляции, новой строки и возврата каретки соответственно"
   ]
  },
  {
   "cell_type": "code",
   "execution_count": null,
   "metadata": {},
   "outputs": [],
   "source": [
    "\n",
    "import urllib.request as rq\n",
    "emailinput=input('Введите почту: ')\n",
    "emailcheck=rq.urlopen(f'https://api.2ip.me/email.txt?email={emailinput}')\n",
    "print(emailcheck.read())"
   ]
  },
  {
   "cell_type": "code",
   "execution_count": null,
   "metadata": {},
   "outputs": [],
   "source": [
    "^(?!\\.)(\"([^\"\\r\\\\]|\\\\[\"\\r\\\\])*\"|([-a-z0-9!#$%&'*+/=?^_`{|}~] |(?@[a-z0-9][\\w\\.-]*[a-z0-9]\\.[a-z][a-z\\.]*[a-z]$\n"
   ]
  },
  {
   "cell_type": "markdown",
   "metadata": {},
   "source": [
    "Напишите функцию, которая проверяет e-mail адрес на валидность по стандарту RFC822: http://www.w3.org/Protocols/rfc822/. Для этого постарайтесь написать (в крайнем случае найти) самый полный шаблон для проверки e-mail адресов через регулярное выражение. Разберитесь и напишите примеры, какие ваш шаблон может не охватить."
   ]
  },
  {
   "cell_type": "code",
   "execution_count": null,
   "metadata": {},
   "outputs": [],
   "source": []
  },
  {
   "cell_type": "markdown",
   "metadata": {},
   "source": [
    "## Задание 3\n",
    "Напишите функцию, которая будет удалять все последовательные повторы слов из заданной строки."
   ]
  },
  {
   "cell_type": "code",
   "execution_count": 12,
   "metadata": {},
   "outputs": [],
   "source": [
    "text = 'Write a function that will will will remove all all consecutive word repeats from from a given given'\n"
   ]
  },
  {
   "cell_type": "code",
   "execution_count": 13,
   "metadata": {},
   "outputs": [],
   "source": [
    "def del_repeats(text):\n",
    "    return re.sub(r'(\\b\\w+)(\\s\\1)+', r'\\1', text)\n",
    "# (\\b\\w+) это означает начало слово и потом последовательность букв \n",
    "# (\\s\\1)+ это что первый элемент поворяется от одного и более раз"
   ]
  },
  {
   "cell_type": "code",
   "execution_count": 14,
   "metadata": {},
   "outputs": [
    {
     "data": {
      "text/plain": [
       "'Write a function that will remove all consecutive word repeats from a given'"
      ]
     },
     "execution_count": 14,
     "metadata": {},
     "output_type": "execute_result"
    }
   ],
   "source": [
    "del_repeats(text)"
   ]
  },
  {
   "cell_type": "code",
   "execution_count": 65,
   "metadata": {},
   "outputs": [
    {
     "name": "stdout",
     "output_type": "stream",
     "text": [
      "Write a function that w+ill w+ill remove all all consecutive w+ord repeats from from a given given\n"
     ]
    }
   ],
   "source": [
    "text = 'Write a function that will will remove all all consecutive word repeats from from a given given'\n",
    "print(re.sub(r'[w]+(\\s*)+',r'w+', text))"
   ]
  },
  {
   "cell_type": "code",
   "execution_count": 45,
   "metadata": {},
   "outputs": [
    {
     "ename": "NameError",
     "evalue": "name 'regex_pattern' is not defined",
     "output_type": "error",
     "traceback": [
      "\u001b[0;31m---------------------------------------------------------------------------\u001b[0m",
      "\u001b[0;31mNameError\u001b[0m                                 Traceback (most recent call last)",
      "\u001b[0;32m<ipython-input-45-53b9c6eca198>\u001b[0m in \u001b[0;36m<module>\u001b[0;34m\u001b[0m\n\u001b[1;32m      1\u001b[0m \u001b[0;34mr'(\\w+)(\\s*)+'\u001b[0m\u001b[0;34m\u001b[0m\u001b[0;34m\u001b[0m\u001b[0m\n\u001b[0;32m----> 2\u001b[0;31m \u001b[0mre\u001b[0m\u001b[0;34m.\u001b[0m\u001b[0mfindall\u001b[0m\u001b[0;34m(\u001b[0m\u001b[0mregex_pattern\u001b[0m\u001b[0;34m,\u001b[0m \u001b[0mnew_string\u001b[0m\u001b[0;34m,\u001b[0m \u001b[0mflags\u001b[0m\u001b[0;34m=\u001b[0m\u001b[0mre\u001b[0m\u001b[0;34m.\u001b[0m\u001b[0mI\u001b[0m\u001b[0;34m)\u001b[0m\u001b[0;34m\u001b[0m\u001b[0;34m\u001b[0m\u001b[0m\n\u001b[0m",
      "\u001b[0;31mNameError\u001b[0m: name 'regex_pattern' is not defined"
     ]
    }
   ],
   "source": [
    "r'(\\w+)(\\s*)+'\n",
    "re.findall(regex_pattern, new_string, flags=re.I)"
   ]
  },
  {
   "cell_type": "markdown",
   "metadata": {},
   "source": [
    "## Задание 4\n",
    "Напишите функцию, которая будет проверять номер сотового телефона на валидность, если он валиден, то переводить его в формат:   \n",
    "+7(xxx)-xxx-xx-xx  \n",
    "Постарайтесь предусмотреть как можно больше адекватных форматов изначального ввода номера.\n",
    "Примеры правильных и неправильных форматов:\n",
    "- +7 955 555-55-55;\n",
    "- 955555555;\n",
    "- 8(955)555-55-55;\n",
    "- +7 955 555 55 55;\n",
    "- 7(955) 555-55-55;\n",
    "- +7 955+555+55+55."
   ]
  },
  {
   "cell_type": "code",
   "execution_count": 31,
   "metadata": {},
   "outputs": [
    {
     "name": "stdout",
     "output_type": "stream",
     "text": [
      "работаем\n",
      "+7(955)-585-55-55 \n"
     ]
    }
   ],
   "source": [
    "#вариант +7 и просто 7,8,9 и между числами пробел или символ \n",
    "number =  '7(955)585\"55-55'\n",
    "\n",
    "regex_telf = '([+7,8,9,7]{1})(\\W)(\\d{3})(\\W)(\\d{3})(\\W)(\\d{2})(\\W)(\\d{2})'\n",
    "if re.findall(regex_telf,number):\n",
    "    print('работаем')\n",
    "    print(re.sub(r'(\\+?)([8,9,7]{1})(\\W)(\\d{3})(\\W)(\\d{3})(\\W)(\\d{2})(\\W)(\\d{2})', r'+7(\\4)-\\6-\\8-\\10 ' ,number))\n",
    "else:\n",
    "    print('ошибка. Не верный номер')"
   ]
  },
  {
   "cell_type": "code",
   "execution_count": 6,
   "metadata": {},
   "outputs": [
    {
     "name": "stdout",
     "output_type": "stream",
     "text": [
      "работаем\n",
      "+7(955)-678-23-56 \n"
     ]
    }
   ],
   "source": [
    "#варианты с 8 9  и вместе\n",
    "number = '89556782356'\n",
    "regex_telf_2 = r'(8?)(9)(\\d{2})(\\d{3})(\\d{2})(\\d{2})'\n",
    "if re.findall(regex_telf_2,number):\n",
    "    print('работаем')\n",
    "    print(re.sub(r'(8?)(9)(\\d{2})(\\d{3})(\\d{2})(\\d{2})', r'+7(\\2\\3)-\\4-\\5-\\6 ' ,number))\n",
    "else:\n",
    "    print('ошибка. Не верный номер')"
   ]
  },
  {
   "cell_type": "code",
   "execution_count": 3,
   "metadata": {},
   "outputs": [
    {
     "name": "stdout",
     "output_type": "stream",
     "text": [
      "+7(911)-555-55-55 \n",
      "ошибка. Не верный номер - 922555555\n",
      "+7(933)-555-55-55 \n",
      "+7(944)-555-55-55 \n",
      "ошибка. Не верный номер - 7(9557555-55-55\n",
      "+7(966)-555-55-55 \n",
      "+7(977)-555-55-55 \n",
      "+7(988)-555-55-55 \n"
     ]
    }
   ],
   "source": [
    "grop_number = ['+7 911 555-55-55', '922555555', '8(933?555-55-55', '7 944 555 55 55', '7(9557555-55-55', '+7 966+555+55+55', '89775555555', '9885555555']\n",
    "\n",
    "for number in grop_number:\n",
    "    regex_telf = '([+7,8,9,7]{1})(\\W)(\\d{3})(\\W)(\\d{3})(\\W)(\\d{2})(\\W)(\\d{2})'\n",
    "    regex_telf_2 = r'(8?)(9)(\\d{2})(\\d{3})(\\d{2})(\\d{2})'\n",
    "    if re.findall(regex_telf_2,number):\n",
    "        print(re.sub(r'(8?)(9)(\\d{2})(\\d{3})(\\d{2})(\\d{2})', r'+7(\\2\\3)-\\4-\\5-\\6 ' ,number))\n",
    "     \n",
    "    elif re.findall(regex_telf,number):\n",
    "        print(re.sub(r'(\\+?)([8,9,7]{1})(\\W)(\\d{3})(\\W)(\\d{3})(\\W)(\\d{2})(\\W)(\\d{2})', r'+7(\\4)-\\6-\\8-\\10 ' ,number))\n",
    "    \n",
    "    else:\n",
    "        print(f\"ошибка. Не верный номер - {number}\")\n"
   ]
  },
  {
   "cell_type": "code",
   "execution_count": null,
   "metadata": {},
   "outputs": [],
   "source": []
  },
  {
   "cell_type": "code",
   "execution_count": null,
   "metadata": {},
   "outputs": [],
   "source": []
  }
 ],
 "metadata": {
  "kernelspec": {
   "display_name": "Python 3",
   "language": "python",
   "name": "python3"
  },
  "language_info": {
   "codemirror_mode": {
    "name": "ipython",
    "version": 3
   },
   "file_extension": ".py",
   "mimetype": "text/x-python",
   "name": "python",
   "nbconvert_exporter": "python",
   "pygments_lexer": "ipython3",
   "version": "3.7.4"
  }
 },
 "nbformat": 4,
 "nbformat_minor": 2
}
