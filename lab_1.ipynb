{
 "cells": [
  {
   "cell_type": "code",
   "execution_count": 6,
   "metadata": {},
   "outputs": [
    {
     "name": "stdout",
     "output_type": "stream",
     "text": [
      "1364\n"
     ]
    }
   ],
   "source": [
    "#Задача № 3   Напишите алгоритм, который выводит сумму элементов списка, которые больше 10, но меньше 100\n",
    "\n",
    "list_01 = [1, 1, 2, 3, 5, 8, 13, 21, 34, 55, 89, 144, 233, 377, 610]\n",
    "list_sum = []\n",
    "for el in list_01:\n",
    "    if 10 < el >100:\n",
    "        list_sum.append(el)\n",
    "print(sum(list_sum))"
   ]
  },
  {
   "cell_type": "code",
   "execution_count": 13,
   "metadata": {},
   "outputs": [
    {
     "name": "stdout",
     "output_type": "stream",
     "text": [
      " Сумма всех элементов матрицы - 89\n",
      " максимальная сумма элементов в строке - 19\n"
     ]
    }
   ],
   "source": [
    "# Задача № 5    Выведите результат сложения всех элементов матрицы.\n",
    "\n",
    "matrix = [\n",
    "[0, 1, 2, 4, 8],\n",
    "[6, 2, 2, 1, 9],\n",
    "[3, 3, 3, 3, 3],\n",
    "[4, 6, 7, 1, 2],\n",
    "[5, 7, 3, 4, 0]\n",
    "]\n",
    "el_mat = []\n",
    "x = 0\n",
    "max_ = 0\n",
    "sum_el = []\n",
    "for el in matrix:\n",
    "    x = sum(el)\n",
    "    if x > max_:\n",
    "        max_ = x\n",
    "    sum_el.append(x)\n",
    "print(f\" Сумма всех элементов матрицы - {sum(sum_el)}\")\n",
    "print (f\" максимальная сумма элементов в строке - {x}\")\n"
   ]
  },
  {
   "cell_type": "code",
   "execution_count": 37,
   "metadata": {},
   "outputs": [
    {
     "name": "stdout",
     "output_type": "stream",
     "text": [
      "[8, 9, 3, 2, 0]\n",
      "22\n",
      "[4, 1, 3, 1, 4]\n",
      "[2, 2, 3, 7, 3]\n",
      "[1, 2, 3, 6, 7]\n",
      "[0, 6, 3, 4, 5]\n",
      "22\n"
     ]
    }
   ],
   "source": [
    "# Напишите алгоритм вычисления максимума из сумм элементов каждого столбца\n",
    "matrix = [\n",
    "[0, 1, 2, 4, 8],\n",
    "[6, 2, 2, 1, 9],\n",
    "[3, 3, 3, 3, 3],\n",
    "[4, 6, 7, 1, 2],\n",
    "[5, 7, 3, 4, 0]\n",
    "]\n",
    "\n",
    "max_col = 0\n",
    "i = len(matrix[0]) - 1\n",
    "while i >= 0:\n",
    "    x = 0\n",
    "    sum_col = []\n",
    "    for el in matrix:\n",
    "        sum_col.append(el[i])    \n",
    "    print(sum_col)   \n",
    "    x = sum(sum_col)\n",
    "    if x > max_col:\n",
    "        max_col = x\n",
    "        print(max_col)\n",
    "    i -= 1\n",
    "print(max_col)      "
   ]
  },
  {
   "cell_type": "code",
   "execution_count": 76,
   "metadata": {},
   "outputs": [
    {
     "name": "stdout",
     "output_type": "stream",
     "text": [
      "{'0001': ['Антонов', 'Антон', 'Игоревич', '20.08.2009', 'БСТ161'], '1102': ['Богов', 'Артем', 'Игоревич', '25.01.2010', 'БСТ162'], '0333': ['Глаголева', 'Анастасия', 'Николаевна', '11.07.2009', 'БСТ163'], '4004': ['Степанова', 'Наталья', 'Александровна', '13.02.2008', 'БСТ161'], '0045': ['Боков', 'Игорь', 'Харитонович', '02.06.2009', 'БСТ161'], '0096': ['Васильков', 'Валентин', 'Сергеевич', '20.03.2009', 'БСТ164'], '0607': ['Сиропова', 'Виолетта', 'Эдуардовна', '28.05.2010', 'БСТ162'], '0309': ['Шафутинский', 'Михаил', 'Михайлович', '03.09.2007', 'БСТ163']}\n"
     ]
    }
   ],
   "source": [
    "# Задача № 4\n",
    "\n",
    "students = [\n",
    " [\"0001\", \"Антонов\", \"Антон\", \"Игоревич\", \"20.08.2009\",\n",
    "\"БСТ161\"],\n",
    " [\"1102\", \"Богов\", \"Артем\", \"Игоревич\", \"25.01.2010\",\n",
    "\"БСТ162\"],\n",
    " [\"0333\", \"Глаголева\", \"Анастасия\", \"Николаевна\",\n",
    "\"11.07.2009\", \"БСТ163\"],\n",
    " [\"4004\", \"Степанова\", \"Наталья\", \"Александровна\",\n",
    "\"13.02.2008\", \"БСТ161\"],\n",
    " [\"0045\", \"Боков\", \"Игорь\", \"Харитонович\", \"02.06.2009\",\n",
    "\"БСТ161\"],\n",
    " [\"0096\", \"Васильков\", \"Валентин\", \"Сергеевич\", \"20.03.2009\",\n",
    "\"БСТ164\"],\n",
    " [\"0607\", \"Сиропова\", \"Виолетта\", \"Эдуардовна\", \"28.05.2010\",\n",
    "\"БСТ162\"],\n",
    " [\"0309\", \"Шафутинский\", \"Михаил\", \"Михайлович\",\n",
    "\"03.09.2007\", \"БСТ163\"]\n",
    " ]\n",
    "# 1. Преобразуйте данные таким образом, чтобы они были представлены в виде\n",
    "#  словаря, в котором ключами являются номера студентов, а значениями —\n",
    "# список из других данных о студентах.\n",
    "  \n",
    "dict_stud = {}\n",
    "for el in students:\n",
    "    val_stud = []\n",
    "    key_stud = 0\n",
    "    key_stud = el[0]\n",
    "    #print(key_stud)\n",
    "    val_stud.append(el[1])\n",
    "    val_stud.append(el[2])\n",
    "    val_stud.append(el[3])\n",
    "    val_stud.append(el[4])\n",
    "    val_stud.append(el[5])\n",
    "#print(val_stud)\n",
    "    dict_stud[key_stud] = val_stud\n",
    "print(dict_stud)\n",
    "    "
   ]
  },
  {
   "cell_type": "code",
   "execution_count": 75,
   "metadata": {},
   "outputs": [],
   "source": [
    "#2. Напишите функцию, которая принимает в качестве аргумента номер студента и\n",
    "#    новый номер группы и позволяет изменить номер группы этого студента на новый.\n",
    "def new_num():\n",
    "    num_stud = input('Номер студента: ')\n",
    "    num_new = input('Номер новой группы:')\n",
    "    chek_num = dict_stud.keys()\n",
    "    if num_stud in chek_num:\n",
    "        list_num = dict_stud.get(num_stud)\n",
    "        list_num.pop()\n",
    "        list_num.append(num_new)\n",
    "        return (list_num)\n",
    "    else:\n",
    "        print('Такого номера студенкта нет')"
   ]
  },
  {
   "cell_type": "code",
   "execution_count": 73,
   "metadata": {},
   "outputs": [
    {
     "name": "stdout",
     "output_type": "stream",
     "text": [
      "Номер студента: 765\n",
      "Номер новой группы:789\n",
      "Такого номера нет\n"
     ]
    }
   ],
   "source": [
    "new_num()"
   ]
  },
  {
   "cell_type": "code",
   "execution_count": 82,
   "metadata": {},
   "outputs": [],
   "source": [
    "# 3. Напишите функцию, которая принимает номер группы и выводит список\n",
    "# (фамилии, имена, отчества) всех студентов этой группы.\n",
    "\n",
    "def grup():\n",
    "    num_grup = input('Номер группы:')\n",
    "    for key in dict_stud.keys():\n",
    "        list_stud = []\n",
    "        if dict_stud[key][4] == num_grup:\n",
    "            list_stud.append(dict_stud[key][0])\n",
    "            list_stud.append(dict_stud[key][1])\n",
    "            list_stud.append(dict_stud[key][2])\n",
    "            print(' '.join(list_stud))\n",
    "        \n",
    "    "
   ]
  },
  {
   "cell_type": "code",
   "execution_count": 83,
   "metadata": {},
   "outputs": [
    {
     "name": "stdout",
     "output_type": "stream",
     "text": [
      "Номер группы:БСТ161\n",
      "Антонов Антон Игоревич\n",
      "Степанова Наталья Александровна\n",
      "Боков Игорь Харитонович\n"
     ]
    }
   ],
   "source": [
    "grup()"
   ]
  },
  {
   "cell_type": "code",
   "execution_count": null,
   "metadata": {},
   "outputs": [],
   "source": [
    "#Задача 2\n",
    "# Напишите код, который будет генерировать случайную последовательность из 6\n",
    "# цифр, одна из которых должна быть 3. Позиция цифры 3 должна\n",
    "# определяться случайным образом. Результат должен быть строкой. Например:\n",
    "#   \"456309\" или \"330127\".\n",
    "\n"
   ]
  },
  {
   "cell_type": "markdown",
   "metadata": {},
   "source": [
    "Задача 1\n",
    "Дана строка\n",
    "\n",
    "1. Посчитайте, сколько в строке символов (исключая пробелы).\n",
    "2. Посчитайте, сколько в строке слов.\n",
    "3. Напишите функцию, которая будет принимать в качестве аргумента букву и\n",
    "выводить все слова из строки, заканчивающиеся на эту букву (например, “s”).\n",
    "4. Не обязательно: Напишите функцию, которая будет принимать в качестве\n",
    "аргумента букву и выводить все слова из строки, начинающиеся на эту букву\n",
    "(например, “m”)."
   ]
  },
  {
   "cell_type": "code",
   "execution_count": 88,
   "metadata": {},
   "outputs": [
    {
     "ename": "SyntaxError",
     "evalue": "invalid syntax (<ipython-input-88-4faf3d8fe63f>, line 1)",
     "output_type": "error",
     "traceback": [
      "\u001b[0;36m  File \u001b[0;32m\"<ipython-input-88-4faf3d8fe63f>\"\u001b[0;36m, line \u001b[0;32m1\u001b[0m\n\u001b[0;31m    string_01 = [Mama, just killed a man, put a gun against his head,\u001b[0m\n\u001b[0m                                 ^\u001b[0m\n\u001b[0;31mSyntaxError\u001b[0m\u001b[0;31m:\u001b[0m invalid syntax\n"
     ]
    }
   ],
   "source": [
    "string_01 = [Mama, just killed a man, put a gun against his head,\n",
    "pulled my trigger, now he's dead. Mama, life had just begun, but\n",
    "now I've gone and thrown it all away. Mama, ooh (any way the wind\n",
    "blows), didn't mean to make you cry. If I'm not back again this\n",
    "time tomorrow carry on, carry on as if nothing really matters.]"
   ]
  },
  {
   "cell_type": "code",
   "execution_count": 89,
   "metadata": {},
   "outputs": [
    {
     "ename": "NameError",
     "evalue": "name 're' is not defined",
     "output_type": "error",
     "traceback": [
      "\u001b[0;31m---------------------------------------------------------------------------\u001b[0m",
      "\u001b[0;31mNameError\u001b[0m                                 Traceback (most recent call last)",
      "\u001b[0;32m<ipython-input-89-bb819de81713>\u001b[0m in \u001b[0;36m<module>\u001b[0;34m\u001b[0m\n\u001b[0;32m----> 1\u001b[0;31m \u001b[0mresult\u001b[0m \u001b[0;34m=\u001b[0m \u001b[0mre\u001b[0m\u001b[0;34m.\u001b[0m\u001b[0mfindall\u001b[0m\u001b[0;34m(\u001b[0m\u001b[0;34mr'\\w+'\u001b[0m\u001b[0;34m,\u001b[0m \u001b[0mstring_01\u001b[0m\u001b[0;34m)\u001b[0m\u001b[0;34m\u001b[0m\u001b[0;34m\u001b[0m\u001b[0m\n\u001b[0m",
      "\u001b[0;31mNameError\u001b[0m: name 're' is not defined"
     ]
    }
   ],
   "source": [
    "result = re.findall(r'\\w+', string_01)"
   ]
  },
  {
   "cell_type": "code",
   "execution_count": null,
   "metadata": {},
   "outputs": [],
   "source": []
  }
 ],
 "metadata": {
  "kernelspec": {
   "display_name": "Python 3",
   "language": "python",
   "name": "python3"
  },
  "language_info": {
   "codemirror_mode": {
    "name": "ipython",
    "version": 3
   },
   "file_extension": ".py",
   "mimetype": "text/x-python",
   "name": "python",
   "nbconvert_exporter": "python",
   "pygments_lexer": "ipython3",
   "version": "3.7.4"
  }
 },
 "nbformat": 4,
 "nbformat_minor": 2
}
